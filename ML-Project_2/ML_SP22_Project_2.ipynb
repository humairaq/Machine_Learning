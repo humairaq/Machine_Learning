{
 "cells": [
  {
   "cell_type": "markdown",
   "metadata": {
    "pycharm": {
     "name": "#%% md\n"
    }
   },
   "source": [
    "# ML_SP22_Project_2 (Classical Machine Learning Model Building)"
   ]
  },
  {
   "cell_type": "markdown",
   "metadata": {
    "pycharm": {
     "name": "#%% md\n"
    }
   },
   "source": [
    "### Due Date: 5/2 23:59 pm"
   ]
  },
  {
   "cell_type": "code",
   "execution_count": 1,
   "metadata": {
    "pycharm": {
     "is_executing": true,
     "name": "#%%\n"
    }
   },
   "outputs": [],
   "source": [
    "import pandas as pd\n",
    "import numpy as np\n",
    "import matplotlib.pyplot as plt\n",
    "import seaborn as sns\n",
    "import warnings\n",
    "warnings.filterwarnings('ignore')"
   ]
  },
  {
   "cell_type": "code",
   "execution_count": 2,
   "metadata": {
    "pycharm": {
     "is_executing": true,
     "name": "#%%\n"
    }
   },
   "outputs": [],
   "source": [
    "from sklearn.model_selection import train_test_split\n",
    "from sklearn.linear_model import LogisticRegression\n",
    "from sklearn import svm\n",
    "from sklearn.ensemble import RandomForestClassifier\n",
    "from sklearn.tree import DecisionTreeClassifier\n",
    "from sklearn.metrics import classification_report,confusion_matrix,accuracy_score"
   ]
  },
  {
   "cell_type": "code",
   "execution_count": 3,
   "metadata": {
    "pycharm": {
     "is_executing": true,
     "name": "#%%\n"
    }
   },
   "outputs": [],
   "source": [
    "# include your Project 1 Decision Tree Model as well\n",
    "from DT_Humaira_Qadeer import DecisionTreeModel\n",
    "from DT_Humaira_Qadeer import RandomForestModel"
   ]
  },
  {
   "cell_type": "markdown",
   "metadata": {
    "pycharm": {
     "name": "#%% md\n"
    }
   },
   "source": [
    "### Original dataset was based on\n",
    "https://archive.ics.uci.edu/ml/datasets/wine+quality"
   ]
  },
  {
   "cell_type": "raw",
   "metadata": {
    "pycharm": {
     "name": "#%% raw\n"
    }
   },
   "source": [
    "Attribute Information:\n",
    "\n",
    "For more information, read [Cortez et al., 2009].\n",
    "Input variables (based on physicochemical tests):\n",
    "1 - fixed acidity\n",
    "2 - volatile acidity\n",
    "3 - citric acid\n",
    "4 - residual sugar\n",
    "5 - chlorides\n",
    "6 - free sulfur dioxide\n",
    "7 - total sulfur dioxide\n",
    "8 - density\n",
    "9 - pH\n",
    "10 - sulphates\n",
    "11 - alcohol\n",
    "Output variable (based on sensory data):\n",
    "12 - quality (score between 0 and 10)"
   ]
  },
  {
   "cell_type": "markdown",
   "metadata": {
    "pycharm": {
     "name": "#%% md\n"
    }
   },
   "source": [
    "### However, we will be using a slightly modified version of the dataset as follow"
   ]
  },
  {
   "cell_type": "code",
   "execution_count": 4,
   "metadata": {
    "pycharm": {
     "is_executing": true,
     "name": "#%%\n"
    }
   },
   "outputs": [
    {
     "data": {
      "text/html": [
       "<div>\n",
       "<style scoped>\n",
       "    .dataframe tbody tr th:only-of-type {\n",
       "        vertical-align: middle;\n",
       "    }\n",
       "\n",
       "    .dataframe tbody tr th {\n",
       "        vertical-align: top;\n",
       "    }\n",
       "\n",
       "    .dataframe thead th {\n",
       "        text-align: right;\n",
       "    }\n",
       "</style>\n",
       "<table border=\"1\" class=\"dataframe\">\n",
       "  <thead>\n",
       "    <tr style=\"text-align: right;\">\n",
       "      <th></th>\n",
       "      <th>fixed acidity</th>\n",
       "      <th>volatile acidity</th>\n",
       "      <th>citric acid</th>\n",
       "      <th>residual sugar</th>\n",
       "      <th>chlorides</th>\n",
       "      <th>free sulfur dioxide</th>\n",
       "      <th>total sulfur dioxide</th>\n",
       "      <th>density</th>\n",
       "      <th>sulphates</th>\n",
       "      <th>alcohol</th>\n",
       "      <th>type</th>\n",
       "      <th>pHValue</th>\n",
       "      <th>taste</th>\n",
       "    </tr>\n",
       "  </thead>\n",
       "  <tbody>\n",
       "    <tr>\n",
       "      <th>0</th>\n",
       "      <td>7.0</td>\n",
       "      <td>0.27</td>\n",
       "      <td>0.36</td>\n",
       "      <td>20.7</td>\n",
       "      <td>0.045</td>\n",
       "      <td>45.0</td>\n",
       "      <td>170.0</td>\n",
       "      <td>1.0010</td>\n",
       "      <td>0.45</td>\n",
       "      <td>8.8</td>\n",
       "      <td>white</td>\n",
       "      <td>very acidic</td>\n",
       "      <td>normal</td>\n",
       "    </tr>\n",
       "    <tr>\n",
       "      <th>1</th>\n",
       "      <td>6.3</td>\n",
       "      <td>0.30</td>\n",
       "      <td>0.34</td>\n",
       "      <td>1.6</td>\n",
       "      <td>0.049</td>\n",
       "      <td>14.0</td>\n",
       "      <td>132.0</td>\n",
       "      <td>0.9940</td>\n",
       "      <td>0.49</td>\n",
       "      <td>9.5</td>\n",
       "      <td>white</td>\n",
       "      <td>quite acidic</td>\n",
       "      <td>normal</td>\n",
       "    </tr>\n",
       "    <tr>\n",
       "      <th>2</th>\n",
       "      <td>8.1</td>\n",
       "      <td>0.28</td>\n",
       "      <td>0.40</td>\n",
       "      <td>6.9</td>\n",
       "      <td>0.050</td>\n",
       "      <td>30.0</td>\n",
       "      <td>97.0</td>\n",
       "      <td>0.9951</td>\n",
       "      <td>0.44</td>\n",
       "      <td>10.1</td>\n",
       "      <td>white</td>\n",
       "      <td>quite acidic</td>\n",
       "      <td>normal</td>\n",
       "    </tr>\n",
       "    <tr>\n",
       "      <th>3</th>\n",
       "      <td>7.2</td>\n",
       "      <td>0.23</td>\n",
       "      <td>0.32</td>\n",
       "      <td>8.5</td>\n",
       "      <td>0.058</td>\n",
       "      <td>47.0</td>\n",
       "      <td>186.0</td>\n",
       "      <td>0.9956</td>\n",
       "      <td>0.40</td>\n",
       "      <td>9.9</td>\n",
       "      <td>white</td>\n",
       "      <td>very acidic</td>\n",
       "      <td>normal</td>\n",
       "    </tr>\n",
       "    <tr>\n",
       "      <th>4</th>\n",
       "      <td>7.2</td>\n",
       "      <td>0.23</td>\n",
       "      <td>0.32</td>\n",
       "      <td>8.5</td>\n",
       "      <td>0.058</td>\n",
       "      <td>47.0</td>\n",
       "      <td>186.0</td>\n",
       "      <td>0.9956</td>\n",
       "      <td>0.40</td>\n",
       "      <td>9.9</td>\n",
       "      <td>white</td>\n",
       "      <td>very acidic</td>\n",
       "      <td>normal</td>\n",
       "    </tr>\n",
       "  </tbody>\n",
       "</table>\n",
       "</div>"
      ],
      "text/plain": [
       "   fixed acidity  volatile acidity  citric acid  residual sugar  chlorides  \\\n",
       "0            7.0              0.27         0.36            20.7      0.045   \n",
       "1            6.3              0.30         0.34             1.6      0.049   \n",
       "2            8.1              0.28         0.40             6.9      0.050   \n",
       "3            7.2              0.23         0.32             8.5      0.058   \n",
       "4            7.2              0.23         0.32             8.5      0.058   \n",
       "\n",
       "   free sulfur dioxide  total sulfur dioxide  density  sulphates  alcohol  \\\n",
       "0                 45.0                 170.0   1.0010       0.45      8.8   \n",
       "1                 14.0                 132.0   0.9940       0.49      9.5   \n",
       "2                 30.0                  97.0   0.9951       0.44     10.1   \n",
       "3                 47.0                 186.0   0.9956       0.40      9.9   \n",
       "4                 47.0                 186.0   0.9956       0.40      9.9   \n",
       "\n",
       "    type       pHValue   taste  \n",
       "0  white   very acidic  normal  \n",
       "1  white  quite acidic  normal  \n",
       "2  white  quite acidic  normal  \n",
       "3  white   very acidic  normal  \n",
       "4  white   very acidic  normal  "
      ]
     },
     "execution_count": 4,
     "metadata": {},
     "output_type": "execute_result"
    }
   ],
   "source": [
    "df = pd.read_csv(\"wine-tasting.csv\")\n",
    "df.head()"
   ]
  },
  {
   "cell_type": "code",
   "execution_count": 5,
   "metadata": {
    "pycharm": {
     "is_executing": true,
     "name": "#%%\n"
    }
   },
   "outputs": [
    {
     "data": {
      "text/plain": [
       "<AxesSubplot:xlabel='taste', ylabel='count'>"
      ]
     },
     "execution_count": 5,
     "metadata": {},
     "output_type": "execute_result"
    },
    {
     "data": {
      "image/png": "[encoded data removed]",
      "text/plain": [
       "<Figure size 432x288 with 1 Axes>"
      ]
     },
     "metadata": {
      "needs_background": "light"
     },
     "output_type": "display_data"
    }
   ],
   "source": [
    "sns.countplot(x='taste',data=df)"
   ]
  },
  {
   "cell_type": "code",
   "execution_count": 6,
   "metadata": {
    "pycharm": {
     "is_executing": true,
     "name": "#%%\n"
    }
   },
   "outputs": [
    {
     "data": {
      "text/plain": [
       "<AxesSubplot:xlabel='taste', ylabel='count'>"
      ]
     },
     "execution_count": 6,
     "metadata": {},
     "output_type": "execute_result"
    },
    {
     "data": {
      "image/png": "[encoded data removed]",
      "text/plain": [
       "<Figure size 432x288 with 1 Axes>"
      ]
     },
     "metadata": {
      "needs_background": "light"
     },
     "output_type": "display_data"
    }
   ],
   "source": [
    "sns.countplot(x='taste', hue='type', data=df)"
   ]
  },
  {
   "cell_type": "markdown",
   "metadata": {
    "pycharm": {
     "name": "#%% md\n"
    }
   },
   "source": [
    "### Your task in this Project is to build the best predictive model to predict if a wine will be of good taste (ie we do not care if it is normal or bad taste, just good vs not good taste)"
   ]
  },
  {
   "cell_type": "markdown",
   "metadata": {
    "pycharm": {
     "name": "#%% md\n"
    }
   },
   "source": [
    "***You should follow the usual best practice in building models such as***"
   ]
  },
  {
   "cell_type": "markdown",
   "metadata": {
    "pycharm": {
     "name": "#%% md\n"
    }
   },
   "source": [
    "* EDA (chekcing missing values, removing outliers)\n",
    "* performed basic exploration of relationship, with plots and graphs\n",
    "* separated data set into training and testing\n",
    "* setup dummy variables to take care categorical variables\n",
    "* normalize numerical features if needed\n",
    "* tried at least three (one of them is your own decision tree) models and checked their model performance\n",
    "* performed cross-validations (f1-score)"
   ]
  },
  {
   "cell_type": "markdown",
   "metadata": {
    "pycharm": {
     "name": "#%% md\n"
    }
   },
   "source": [
    "***You should have also done the following***"
   ]
  },
  {
   "cell_type": "markdown",
   "metadata": {
    "pycharm": {
     "name": "#%% md\n"
    }
   },
   "source": [
    "* Try at least 3 models you have learned in class such as Logistic, Decision Tree, Random Forecast.\n",
    "* Compare the sklearn Decision Tree with your own Decision Tree implementation results\n",
    "* Include at least one ensemble models\n",
    "* Identify out of all those you have tried, which one is the best model."
   ]
  },
  {
   "cell_type": "markdown",
   "metadata": {
    "pycharm": {
     "name": "#%% md\n"
    }
   },
   "source": [
    "* For the best fitted model, does it work better for the Red wine or White wine or similar\n",
    "* Can ensemble methods improve your models?\n",
    "* Whether the categorical variable pH Value is important or not. If it is important, and you need to make a prediction for one instance where the pH value is missing, how would you proceed?"
   ]
  },
  {
   "cell_type": "markdown",
   "metadata": {
    "pycharm": {
     "name": "#%% md\n"
    }
   },
   "source": [
    "***And answer the following questions based on what you observe from your model building process***"
   ]
  },
  {
   "cell_type": "markdown",
   "metadata": {
    "pycharm": {
     "name": "#%% md\n"
    }
   },
   "source": [
    "# Exploratory Data Analysis"
   ]
  },
  {
   "cell_type": "markdown",
   "metadata": {
    "pycharm": {
     "name": "#%% md\n"
    }
   },
   "source": []
  },
  {
   "cell_type": "markdown",
   "metadata": {
    "pycharm": {
     "name": "#%% md\n"
    }
   },
   "source": [
    "observing amount of rows and columns of data, finding missing data, determining types for each variable\n"
   ]
  },
  {
   "cell_type": "code",
   "execution_count": 7,
   "metadata": {
    "pycharm": {
     "is_executing": true,
     "name": "#%%\n"
    }
   },
   "outputs": [
    {
     "data": {
      "text/plain": [
       "(6498, 13)"
      ]
     },
     "execution_count": 7,
     "metadata": {},
     "output_type": "execute_result"
    }
   ],
   "source": [
    "df.shape"
   ]
  },
  {
   "cell_type": "code",
   "execution_count": 8,
   "metadata": {
    "pycharm": {
     "is_executing": true,
     "name": "#%%\n"
    }
   },
   "outputs": [
    {
     "name": "stdout",
     "output_type": "stream",
     "text": [
      "fixed acidity           1\n",
      "volatile acidity        0\n",
      "citric acid             0\n",
      "residual sugar          0\n",
      "chlorides               0\n",
      "free sulfur dioxide     0\n",
      "total sulfur dioxide    0\n",
      "density                 0\n",
      "sulphates               0\n",
      "alcohol                 0\n",
      "type                    0\n",
      "pHValue                 0\n",
      "taste                   0\n",
      "dtype: int64\n"
     ]
    }
   ],
   "source": [
    "#total amount of missing values for each column\n",
    "print(df.isnull().sum())"
   ]
  },
  {
   "cell_type": "code",
   "execution_count": 9,
   "metadata": {
    "pycharm": {
     "is_executing": true,
     "name": "#%%\n"
    }
   },
   "outputs": [
    {
     "name": "stdout",
     "output_type": "stream",
     "text": [
      "fixed acidity           float64\n",
      "volatile acidity        float64\n",
      "citric acid             float64\n",
      "residual sugar          float64\n",
      "chlorides               float64\n",
      "free sulfur dioxide     float64\n",
      "total sulfur dioxide    float64\n",
      "density                 float64\n",
      "sulphates               float64\n",
      "alcohol                 float64\n",
      "type                     object\n",
      "pHValue                  object\n",
      "taste                    object\n",
      "dtype: object\n"
     ]
    }
   ],
   "source": [
    "#data types for each column\n",
    "print(df.dtypes)"
   ]
  },
  {
   "cell_type": "code",
   "execution_count": 10,
   "metadata": {
    "pycharm": {
     "is_executing": true,
     "name": "#%%\n"
    }
   },
   "outputs": [
    {
     "data": {
      "text/html": [
       "<div>\n",
       "<style scoped>\n",
       "    .dataframe tbody tr th:only-of-type {\n",
       "        vertical-align: middle;\n",
       "    }\n",
       "\n",
       "    .dataframe tbody tr th {\n",
       "        vertical-align: top;\n",
       "    }\n",
       "\n",
       "    .dataframe thead th {\n",
       "        text-align: right;\n",
       "    }\n",
       "</style>\n",
       "<table border=\"1\" class=\"dataframe\">\n",
       "  <thead>\n",
       "    <tr style=\"text-align: right;\">\n",
       "      <th></th>\n",
       "      <th>fixed acidity</th>\n",
       "      <th>volatile acidity</th>\n",
       "      <th>citric acid</th>\n",
       "      <th>residual sugar</th>\n",
       "      <th>chlorides</th>\n",
       "      <th>free sulfur dioxide</th>\n",
       "      <th>total sulfur dioxide</th>\n",
       "      <th>density</th>\n",
       "      <th>sulphates</th>\n",
       "      <th>alcohol</th>\n",
       "      <th>type</th>\n",
       "      <th>pHValue</th>\n",
       "      <th>taste</th>\n",
       "    </tr>\n",
       "  </thead>\n",
       "  <tbody>\n",
       "    <tr>\n",
       "      <th>36</th>\n",
       "      <td>NaN</td>\n",
       "      <td>0.28</td>\n",
       "      <td>0.43</td>\n",
       "      <td>1.7</td>\n",
       "      <td>0.08</td>\n",
       "      <td>21.0</td>\n",
       "      <td>123.0</td>\n",
       "      <td>0.9905</td>\n",
       "      <td>0.42</td>\n",
       "      <td>12.8</td>\n",
       "      <td>white</td>\n",
       "      <td>very acidic</td>\n",
       "      <td>bad</td>\n",
       "    </tr>\n",
       "  </tbody>\n",
       "</table>\n",
       "</div>"
      ],
      "text/plain": [
       "    fixed acidity  volatile acidity  citric acid  residual sugar  chlorides  \\\n",
       "36            NaN              0.28         0.43             1.7       0.08   \n",
       "\n",
       "    free sulfur dioxide  total sulfur dioxide  density  sulphates  alcohol  \\\n",
       "36                 21.0                 123.0   0.9905       0.42     12.8   \n",
       "\n",
       "     type      pHValue taste  \n",
       "36  white  very acidic   bad  "
      ]
     },
     "execution_count": 10,
     "metadata": {},
     "output_type": "execute_result"
    }
   ],
   "source": [
    "#display rows with columns containing empty data\n",
    "df[df.isnull().any(axis = 1)]"
   ]
  },
  {
   "cell_type": "code",
   "execution_count": 11,
   "metadata": {
    "pycharm": {
     "is_executing": true,
     "name": "#%%\n"
    }
   },
   "outputs": [
    {
     "name": "stdout",
     "output_type": "stream",
     "text": [
      "None\n"
     ]
    }
   ],
   "source": [
    "#remove rows with missing data\n",
    "print(df.dropna(axis = 0, inplace = True))"
   ]
  },
  {
   "cell_type": "code",
   "execution_count": 12,
   "metadata": {
    "pycharm": {
     "is_executing": true,
     "name": "#%%\n"
    }
   },
   "outputs": [
    {
     "data": {
      "text/plain": [
       "fixed acidity           0\n",
       "volatile acidity        0\n",
       "citric acid             0\n",
       "residual sugar          0\n",
       "chlorides               0\n",
       "free sulfur dioxide     0\n",
       "total sulfur dioxide    0\n",
       "density                 0\n",
       "sulphates               0\n",
       "alcohol                 0\n",
       "type                    0\n",
       "pHValue                 0\n",
       "taste                   0\n",
       "dtype: int64"
      ]
     },
     "execution_count": 12,
     "metadata": {},
     "output_type": "execute_result"
    }
   ],
   "source": [
    "#making sure row was dropped correctly\n",
    "df.isnull().sum()"
   ]
  },
  {
   "cell_type": "code",
   "execution_count": 13,
   "metadata": {
    "pycharm": {
     "is_executing": true,
     "name": "#%%\n"
    },
    "scrolled": true
   },
   "outputs": [
    {
     "data": {
      "text/plain": [
       "fixed acidity           False\n",
       "volatile acidity        False\n",
       "citric acid             False\n",
       "residual sugar          False\n",
       "chlorides               False\n",
       "free sulfur dioxide     False\n",
       "total sulfur dioxide    False\n",
       "density                 False\n",
       "sulphates               False\n",
       "alcohol                 False\n",
       "type                    False\n",
       "pHValue                 False\n",
       "taste                   False\n",
       "dtype: bool"
      ]
     },
     "execution_count": 13,
     "metadata": {},
     "output_type": "execute_result"
    }
   ],
   "source": [
    "#check to see missing values\n",
    "df.isnull().any()"
   ]
  },
  {
   "cell_type": "code",
   "execution_count": 14,
   "metadata": {
    "pycharm": {
     "is_executing": true,
     "name": "#%%\n"
    }
   },
   "outputs": [
    {
     "data": {
      "text/plain": [
       "(6497, 13)"
      ]
     },
     "execution_count": 14,
     "metadata": {},
     "output_type": "execute_result"
    }
   ],
   "source": [
    "df.shape"
   ]
  },
  {
   "cell_type": "markdown",
   "metadata": {},
   "source": [
    "one row with missing value removed"
   ]
  },
  {
   "cell_type": "code",
   "execution_count": 15,
   "metadata": {
    "scrolled": true
   },
   "outputs": [
    {
     "data": {
      "image/png": "[encoded data removed]",
      "text/plain": [
       "<Figure size 1440x576 with 12 Axes>"
      ]
     },
     "metadata": {
      "needs_background": "light"
     },
     "output_type": "display_data"
    }
   ],
   "source": [
    "df.plot(kind='box', subplots=True, layout=(4,3), legend=True, figsize=(20,8))\n",
    "plt.show()"
   ]
  },
  {
   "cell_type": "markdown",
   "metadata": {
    "pycharm": {
     "name": "#%% md\n"
    }
   },
   "source": [
    "### Check and remove outliers"
   ]
  },
  {
   "cell_type": "code",
   "execution_count": 16,
   "metadata": {
    "pycharm": {
     "is_executing": true,
     "name": "#%%\n"
    },
    "scrolled": false
   },
   "outputs": [
    {
     "data": {
      "text/plain": [
       "fixed acidity           106\n",
       "volatile acidity        187\n",
       "citric acid              89\n",
       "residual sugar          316\n",
       "chlorides               214\n",
       "free sulfur dioxide     135\n",
       "total sulfur dioxide    276\n",
       "density                 998\n",
       "sulphates               111\n",
       "alcohol                 111\n",
       "type                      2\n",
       "pHValue                   6\n",
       "taste                     3\n",
       "dtype: int64"
      ]
     },
     "execution_count": 16,
     "metadata": {},
     "output_type": "execute_result"
    }
   ],
   "source": [
    "df.nunique(axis = 0)\n"
   ]
  },
  {
   "cell_type": "markdown",
   "metadata": {
    "pycharm": {
     "name": "#%% md\n"
    }
   },
   "source": [
    "using graphs and statistical data to find outliers"
   ]
  },
  {
   "cell_type": "code",
   "execution_count": 17,
   "metadata": {
    "pycharm": {
     "is_executing": true,
     "name": "#%%\n"
    }
   },
   "outputs": [
    {
     "data": {
      "text/html": [
       "<div>\n",
       "<style scoped>\n",
       "    .dataframe tbody tr th:only-of-type {\n",
       "        vertical-align: middle;\n",
       "    }\n",
       "\n",
       "    .dataframe tbody tr th {\n",
       "        vertical-align: top;\n",
       "    }\n",
       "\n",
       "    .dataframe thead th {\n",
       "        text-align: right;\n",
       "    }\n",
       "</style>\n",
       "<table border=\"1\" class=\"dataframe\">\n",
       "  <thead>\n",
       "    <tr style=\"text-align: right;\">\n",
       "      <th></th>\n",
       "      <th>fixed acidity</th>\n",
       "      <th>volatile acidity</th>\n",
       "      <th>citric acid</th>\n",
       "      <th>residual sugar</th>\n",
       "      <th>chlorides</th>\n",
       "      <th>free sulfur dioxide</th>\n",
       "      <th>total sulfur dioxide</th>\n",
       "      <th>density</th>\n",
       "      <th>sulphates</th>\n",
       "      <th>alcohol</th>\n",
       "    </tr>\n",
       "  </thead>\n",
       "  <tbody>\n",
       "    <tr>\n",
       "      <th>count</th>\n",
       "      <td>6497.000000</td>\n",
       "      <td>6497.000000</td>\n",
       "      <td>6497.000000</td>\n",
       "      <td>6497.000000</td>\n",
       "      <td>6497.000000</td>\n",
       "      <td>6497.000000</td>\n",
       "      <td>6497.000000</td>\n",
       "      <td>6497.000000</td>\n",
       "      <td>6497.000000</td>\n",
       "      <td>6497.000000</td>\n",
       "    </tr>\n",
       "    <tr>\n",
       "      <th>mean</th>\n",
       "      <td>7.215307</td>\n",
       "      <td>0.339666</td>\n",
       "      <td>0.318633</td>\n",
       "      <td>5.443235</td>\n",
       "      <td>0.056034</td>\n",
       "      <td>30.525319</td>\n",
       "      <td>115.744574</td>\n",
       "      <td>0.996136</td>\n",
       "      <td>0.531268</td>\n",
       "      <td>10.491801</td>\n",
       "    </tr>\n",
       "    <tr>\n",
       "      <th>std</th>\n",
       "      <td>1.296434</td>\n",
       "      <td>0.164636</td>\n",
       "      <td>0.145318</td>\n",
       "      <td>4.757804</td>\n",
       "      <td>0.035034</td>\n",
       "      <td>17.749400</td>\n",
       "      <td>56.521855</td>\n",
       "      <td>0.116596</td>\n",
       "      <td>0.148806</td>\n",
       "      <td>1.192712</td>\n",
       "    </tr>\n",
       "    <tr>\n",
       "      <th>min</th>\n",
       "      <td>3.800000</td>\n",
       "      <td>0.080000</td>\n",
       "      <td>0.000000</td>\n",
       "      <td>0.600000</td>\n",
       "      <td>0.009000</td>\n",
       "      <td>1.000000</td>\n",
       "      <td>6.000000</td>\n",
       "      <td>0.987110</td>\n",
       "      <td>0.220000</td>\n",
       "      <td>8.000000</td>\n",
       "    </tr>\n",
       "    <tr>\n",
       "      <th>25%</th>\n",
       "      <td>6.400000</td>\n",
       "      <td>0.230000</td>\n",
       "      <td>0.250000</td>\n",
       "      <td>1.800000</td>\n",
       "      <td>0.038000</td>\n",
       "      <td>17.000000</td>\n",
       "      <td>77.000000</td>\n",
       "      <td>0.992340</td>\n",
       "      <td>0.430000</td>\n",
       "      <td>9.500000</td>\n",
       "    </tr>\n",
       "    <tr>\n",
       "      <th>50%</th>\n",
       "      <td>7.000000</td>\n",
       "      <td>0.290000</td>\n",
       "      <td>0.310000</td>\n",
       "      <td>3.000000</td>\n",
       "      <td>0.047000</td>\n",
       "      <td>29.000000</td>\n",
       "      <td>118.000000</td>\n",
       "      <td>0.994890</td>\n",
       "      <td>0.510000</td>\n",
       "      <td>10.300000</td>\n",
       "    </tr>\n",
       "    <tr>\n",
       "      <th>75%</th>\n",
       "      <td>7.700000</td>\n",
       "      <td>0.400000</td>\n",
       "      <td>0.390000</td>\n",
       "      <td>8.100000</td>\n",
       "      <td>0.065000</td>\n",
       "      <td>41.000000</td>\n",
       "      <td>156.000000</td>\n",
       "      <td>0.996990</td>\n",
       "      <td>0.600000</td>\n",
       "      <td>11.300000</td>\n",
       "    </tr>\n",
       "    <tr>\n",
       "      <th>max</th>\n",
       "      <td>15.900000</td>\n",
       "      <td>1.580000</td>\n",
       "      <td>1.660000</td>\n",
       "      <td>65.800000</td>\n",
       "      <td>0.611000</td>\n",
       "      <td>289.000000</td>\n",
       "      <td>440.000000</td>\n",
       "      <td>10.389800</td>\n",
       "      <td>2.000000</td>\n",
       "      <td>14.900000</td>\n",
       "    </tr>\n",
       "  </tbody>\n",
       "</table>\n",
       "</div>"
      ],
      "text/plain": [
       "       fixed acidity  volatile acidity  citric acid  residual sugar  \\\n",
       "count    6497.000000       6497.000000  6497.000000     6497.000000   \n",
       "mean        7.215307          0.339666     0.318633        5.443235   \n",
       "std         1.296434          0.164636     0.145318        4.757804   \n",
       "min         3.800000          0.080000     0.000000        0.600000   \n",
       "25%         6.400000          0.230000     0.250000        1.800000   \n",
       "50%         7.000000          0.290000     0.310000        3.000000   \n",
       "75%         7.700000          0.400000     0.390000        8.100000   \n",
       "max        15.900000          1.580000     1.660000       65.800000   \n",
       "\n",
       "         chlorides  free sulfur dioxide  total sulfur dioxide      density  \\\n",
       "count  6497.000000          6497.000000           6497.000000  6497.000000   \n",
       "mean      0.056034            30.525319            115.744574     0.996136   \n",
       "std       0.035034            17.749400             56.521855     0.116596   \n",
       "min       0.009000             1.000000              6.000000     0.987110   \n",
       "25%       0.038000            17.000000             77.000000     0.992340   \n",
       "50%       0.047000            29.000000            118.000000     0.994890   \n",
       "75%       0.065000            41.000000            156.000000     0.996990   \n",
       "max       0.611000           289.000000            440.000000    10.389800   \n",
       "\n",
       "         sulphates      alcohol  \n",
       "count  6497.000000  6497.000000  \n",
       "mean      0.531268    10.491801  \n",
       "std       0.148806     1.192712  \n",
       "min       0.220000     8.000000  \n",
       "25%       0.430000     9.500000  \n",
       "50%       0.510000    10.300000  \n",
       "75%       0.600000    11.300000  \n",
       "max       2.000000    14.900000  "
      ]
     },
     "execution_count": 17,
     "metadata": {},
     "output_type": "execute_result"
    }
   ],
   "source": [
    "df.describe()"
   ]
  },
  {
   "cell_type": "code",
   "execution_count": 18,
   "metadata": {
    "pycharm": {
     "is_executing": true,
     "name": "#%%\n"
    }
   },
   "outputs": [
    {
     "data": {
      "image/png": "[encoded data removed]",
      "text/plain": [
       "<Figure size 1080x1080 with 12 Axes>"
      ]
     },
     "metadata": {
      "needs_background": "light"
     },
     "output_type": "display_data"
    }
   ],
   "source": [
    "h = df.hist(figsize = (15,15))"
   ]
  },
  {
   "cell_type": "code",
   "execution_count": 19,
   "metadata": {},
   "outputs": [
    {
     "data": {
      "image/png": "[encoded data removed]",
      "text/plain": [
       "<Figure size 432x288 with 1 Axes>"
      ]
     },
     "metadata": {
      "needs_background": "light"
     },
     "output_type": "display_data"
    }
   ],
   "source": [
    "g=sns.boxplot(x=df['total sulfur dioxide'])"
   ]
  },
  {
   "cell_type": "code",
   "execution_count": 20,
   "metadata": {
    "pycharm": {
     "is_executing": true,
     "name": "#%%\n"
    }
   },
   "outputs": [
    {
     "data": {
      "image/png": "[encoded data removed]",
      "text/plain": [
       "<Figure size 432x288 with 1 Axes>"
      ]
     },
     "metadata": {
      "needs_background": "light"
     },
     "output_type": "display_data"
    }
   ],
   "source": [
    "g=sns.boxplot(x=df['free sulfur dioxide'])"
   ]
  },
  {
   "cell_type": "code",
   "execution_count": 21,
   "metadata": {
    "pycharm": {
     "is_executing": true,
     "name": "#%%\n"
    }
   },
   "outputs": [
    {
     "data": {
      "image/png": "[encoded data removed]",
      "text/plain": [
       "<Figure size 432x288 with 1 Axes>"
      ]
     },
     "metadata": {
      "needs_background": "light"
     },
     "output_type": "display_data"
    }
   ],
   "source": [
    "g=sns.boxplot(x=df['fixed acidity'])"
   ]
  },
  {
   "cell_type": "code",
   "execution_count": 22,
   "metadata": {
    "pycharm": {
     "is_executing": true,
     "name": "#%%\n"
    }
   },
   "outputs": [
    {
     "data": {
      "image/png": "[encoded data removed]",
      "text/plain": [
       "<Figure size 432x288 with 1 Axes>"
      ]
     },
     "metadata": {
      "needs_background": "light"
     },
     "output_type": "display_data"
    }
   ],
   "source": [
    "g=sns.boxplot(x=df['residual sugar'])"
   ]
  },
  {
   "cell_type": "code",
   "execution_count": 23,
   "metadata": {
    "pycharm": {
     "is_executing": true,
     "name": "#%%\n"
    }
   },
   "outputs": [
    {
     "data": {
      "image/png": "[encoded data removed]",
      "text/plain": [
       "<Figure size 432x288 with 1 Axes>"
      ]
     },
     "metadata": {
      "needs_background": "light"
     },
     "output_type": "display_data"
    }
   ],
   "source": [
    "g=sns.boxplot(x=df['alcohol'])"
   ]
  },
  {
   "cell_type": "code",
   "execution_count": 24,
   "metadata": {
    "pycharm": {
     "is_executing": true,
     "name": "#%%\n"
    }
   },
   "outputs": [
    {
     "data": {
      "image/png": "[encoded data removed]",
      "text/plain": [
       "<Figure size 432x288 with 1 Axes>"
      ]
     },
     "metadata": {
      "needs_background": "light"
     },
     "output_type": "display_data"
    }
   ],
   "source": [
    "g=sns.boxplot(x=df['volatile acidity'])"
   ]
  },
  {
   "cell_type": "code",
   "execution_count": 25,
   "metadata": {
    "pycharm": {
     "is_executing": true,
     "name": "#%%\n"
    }
   },
   "outputs": [
    {
     "data": {
      "image/png": "[encoded data removed]",
      "text/plain": [
       "<Figure size 432x288 with 1 Axes>"
      ]
     },
     "metadata": {
      "needs_background": "light"
     },
     "output_type": "display_data"
    }
   ],
   "source": [
    "g=sns.boxplot(x=df['citric acid'])"
   ]
  },
  {
   "cell_type": "code",
   "execution_count": 26,
   "metadata": {
    "pycharm": {
     "is_executing": true,
     "name": "#%%\n"
    }
   },
   "outputs": [
    {
     "data": {
      "image/png": "[encoded data removed]",
      "text/plain": [
       "<Figure size 432x288 with 1 Axes>"
      ]
     },
     "metadata": {
      "needs_background": "light"
     },
     "output_type": "display_data"
    }
   ],
   "source": [
    "g=sns.boxplot(x=df['chlorides'])"
   ]
  },
  {
   "cell_type": "code",
   "execution_count": 27,
   "metadata": {
    "pycharm": {
     "is_executing": true,
     "name": "#%%\n"
    }
   },
   "outputs": [
    {
     "data": {
      "image/png": "[encoded data removed]",
      "text/plain": [
       "<Figure size 432x288 with 1 Axes>"
      ]
     },
     "metadata": {
      "needs_background": "light"
     },
     "output_type": "display_data"
    }
   ],
   "source": [
    "g=sns.boxplot(x=df['density'])"
   ]
  },
  {
   "cell_type": "code",
   "execution_count": 28,
   "metadata": {
    "pycharm": {
     "is_executing": true,
     "name": "#%%\n"
    }
   },
   "outputs": [
    {
     "data": {
      "image/png": "[encoded data removed]",
      "text/plain": [
       "<Figure size 432x288 with 1 Axes>"
      ]
     },
     "metadata": {
      "needs_background": "light"
     },
     "output_type": "display_data"
    }
   ],
   "source": [
    "g=sns.boxplot(x=df['sulphates'])"
   ]
  },
  {
   "cell_type": "markdown",
   "metadata": {
    "pycharm": {
     "name": "#%% md\n"
    }
   },
   "source": [
    "<p>using interquartile range method to define and remove outliers<p/>\n"
   ]
  },
  {
   "cell_type": "code",
   "execution_count": 29,
   "metadata": {
    "pycharm": {
     "is_executing": true,
     "name": "#%%\n"
    },
    "scrolled": false
   },
   "outputs": [
    {
     "data": {
      "text/plain": [
       "(['type', 'pHValue', 'taste'],\n",
       " ['fixed acidity',\n",
       "  'volatile acidity',\n",
       "  'citric acid',\n",
       "  'residual sugar',\n",
       "  'chlorides',\n",
       "  'free sulfur dioxide',\n",
       "  'total sulfur dioxide',\n",
       "  'density',\n",
       "  'sulphates',\n",
       "  'alcohol'])"
      ]
     },
     "execution_count": 29,
     "metadata": {},
     "output_type": "execute_result"
    }
   ],
   "source": [
    "categorical = list(df.select_dtypes(include='object').columns)\n",
    "numerical= list(df.select_dtypes(exclude='object').columns)\n",
    "categorical, numerical\n"
   ]
  },
  {
   "cell_type": "code",
   "execution_count": 30,
   "metadata": {},
   "outputs": [
    {
     "data": {
      "image/png": "[encoded data removed]",
      "text/plain": [
       "<Figure size 1440x576 with 12 Axes>"
      ]
     },
     "metadata": {
      "needs_background": "light"
     },
     "output_type": "display_data"
    }
   ],
   "source": [
    "df[numerical].plot(kind='box', subplots=True, layout=(4,3), legend=True, figsize=(20,8))\n",
    "plt.show()"
   ]
  },
  {
   "cell_type": "code",
   "execution_count": 31,
   "metadata": {},
   "outputs": [],
   "source": [
    "def outlier_removal(feature):\n",
    "    Q1 = df[feature].quantile(0.25)\n",
    "    Q2 = df[feature].quantile(0.75)\n",
    "    IQR = Q2 - Q1\n",
    "    upper = Q2 + (1.5*IQR)\n",
    "    lower = Q1 - (1.5*IQR)\n",
    "    new =  df[(df[feature]>=lower) & (df[feature]<=upper)]\n",
    "    return new"
   ]
  },
  {
   "cell_type": "code",
   "execution_count": 32,
   "metadata": {},
   "outputs": [
    {
     "data": {
      "image/png": "[encoded data removed]",
      "text/plain": [
       "<Figure size 1440x576 with 12 Axes>"
      ]
     },
     "metadata": {
      "needs_background": "light"
     },
     "output_type": "display_data"
    }
   ],
   "source": [
    "for columns in numerical:\n",
    "    df = outlier_removal(columns)\n",
    "    \n",
    "df[numerical].plot(kind='box', subplots=True, layout=(4,3), legend=True, figsize=(20,8))\n",
    "plt.show()"
   ]
  },
  {
   "cell_type": "code",
   "execution_count": 33,
   "metadata": {},
   "outputs": [
    {
     "data": {
      "text/plain": [
       "(4654, 13)"
      ]
     },
     "execution_count": 33,
     "metadata": {},
     "output_type": "execute_result"
    }
   ],
   "source": [
    "# determining the amount of rows changed \n",
    "# previous = (6497, 13) *initial (6498, 13) *\n",
    "\n",
    "df.shape"
   ]
  },
  {
   "cell_type": "code",
   "execution_count": 34,
   "metadata": {},
   "outputs": [],
   "source": [
    "df.dropna(inplace=True)"
   ]
  },
  {
   "cell_type": "markdown",
   "metadata": {
    "pycharm": {
     "name": "#%% md\n"
    }
   },
   "source": [
    "determining the counts of unique values for each categorical variable"
   ]
  },
  {
   "cell_type": "code",
   "execution_count": 35,
   "metadata": {
    "pycharm": {
     "is_executing": true,
     "name": "#%%\n"
    }
   },
   "outputs": [
    {
     "data": {
      "text/plain": [
       "white    4286\n",
       "red       368\n",
       "Name: type, dtype: int64"
      ]
     },
     "execution_count": 35,
     "metadata": {},
     "output_type": "execute_result"
    }
   ],
   "source": [
    "df['type'].value_counts()"
   ]
  },
  {
   "cell_type": "code",
   "execution_count": 36,
   "metadata": {
    "pycharm": {
     "is_executing": true,
     "name": "#%%\n"
    },
    "scrolled": true
   },
   "outputs": [
    {
     "data": {
      "text/plain": [
       "very acidic        1978\n",
       "quite acidic       1833\n",
       "midly acidic        449\n",
       "extremly acidic     342\n",
       "acidic               46\n",
       "lightly acidic        6\n",
       "Name: pHValue, dtype: int64"
      ]
     },
     "execution_count": 36,
     "metadata": {},
     "output_type": "execute_result"
    }
   ],
   "source": [
    "df['pHValue'].value_counts()"
   ]
  },
  {
   "cell_type": "code",
   "execution_count": 37,
   "metadata": {
    "pycharm": {
     "is_executing": true,
     "name": "#%%\n"
    },
    "scrolled": true
   },
   "outputs": [
    {
     "data": {
      "text/plain": [
       "normal    2121\n",
       "bad       1482\n",
       "good      1051\n",
       "Name: taste, dtype: int64"
      ]
     },
     "execution_count": 37,
     "metadata": {},
     "output_type": "execute_result"
    }
   ],
   "source": [
    "df['taste'].value_counts()\n"
   ]
  },
  {
   "cell_type": "markdown",
   "metadata": {
    "pycharm": {
     "name": "#%% md\n"
    }
   },
   "source": [
    "<p>here we encode the categorical variable'pHValue' as dummy variables and encode 'taste' and 'type' variables using a mapping to obtain numerical values for them<p>\n"
   ]
  },
  {
   "cell_type": "code",
   "execution_count": 38,
   "metadata": {
    "pycharm": {
     "is_executing": true,
     "name": "#%%\n"
    }
   },
   "outputs": [],
   "source": [
    "cat_ph = pd.get_dummies(df['pHValue'])"
   ]
  },
  {
   "cell_type": "code",
   "execution_count": null,
   "metadata": {},
   "outputs": [],
   "source": []
  },
  {
   "cell_type": "code",
   "execution_count": 39,
   "metadata": {},
   "outputs": [],
   "source": [
    "encode = {\"taste\": {\"good\": 1, \"normal\": 0,\"bad\": 0},\n",
    "         \"type\": {\"white\": 1, \"red\": 0}}"
   ]
  },
  {
   "cell_type": "code",
   "execution_count": 40,
   "metadata": {},
   "outputs": [],
   "source": [
    "#dropped ph to compare the effects of including ph and excluding pd\n",
    "df = df.replace(encode)\n",
    "df.drop(columns = ['pHValue'],inplace=True)"
   ]
  },
  {
   "cell_type": "code",
   "execution_count": 41,
   "metadata": {},
   "outputs": [
    {
     "data": {
      "text/html": [
       "<div>\n",
       "<style scoped>\n",
       "    .dataframe tbody tr th:only-of-type {\n",
       "        vertical-align: middle;\n",
       "    }\n",
       "\n",
       "    .dataframe tbody tr th {\n",
       "        vertical-align: top;\n",
       "    }\n",
       "\n",
       "    .dataframe thead th {\n",
       "        text-align: right;\n",
       "    }\n",
       "</style>\n",
       "<table border=\"1\" class=\"dataframe\">\n",
       "  <thead>\n",
       "    <tr style=\"text-align: right;\">\n",
       "      <th></th>\n",
       "      <th>fixed acidity</th>\n",
       "      <th>volatile acidity</th>\n",
       "      <th>citric acid</th>\n",
       "      <th>residual sugar</th>\n",
       "      <th>chlorides</th>\n",
       "      <th>free sulfur dioxide</th>\n",
       "      <th>total sulfur dioxide</th>\n",
       "      <th>density</th>\n",
       "      <th>sulphates</th>\n",
       "      <th>alcohol</th>\n",
       "      <th>type</th>\n",
       "      <th>taste</th>\n",
       "      <th>acidic</th>\n",
       "      <th>extremly acidic</th>\n",
       "      <th>lightly acidic</th>\n",
       "      <th>midly acidic</th>\n",
       "      <th>quite acidic</th>\n",
       "      <th>very acidic</th>\n",
       "    </tr>\n",
       "  </thead>\n",
       "  <tbody>\n",
       "    <tr>\n",
       "      <th>1</th>\n",
       "      <td>6.3</td>\n",
       "      <td>0.300</td>\n",
       "      <td>0.34</td>\n",
       "      <td>1.6</td>\n",
       "      <td>0.049</td>\n",
       "      <td>14.0</td>\n",
       "      <td>132.0</td>\n",
       "      <td>0.99400</td>\n",
       "      <td>0.49</td>\n",
       "      <td>9.5</td>\n",
       "      <td>1</td>\n",
       "      <td>0</td>\n",
       "      <td>0</td>\n",
       "      <td>0</td>\n",
       "      <td>0</td>\n",
       "      <td>0</td>\n",
       "      <td>1</td>\n",
       "      <td>0</td>\n",
       "    </tr>\n",
       "    <tr>\n",
       "      <th>2</th>\n",
       "      <td>8.1</td>\n",
       "      <td>0.280</td>\n",
       "      <td>0.40</td>\n",
       "      <td>6.9</td>\n",
       "      <td>0.050</td>\n",
       "      <td>30.0</td>\n",
       "      <td>97.0</td>\n",
       "      <td>0.99510</td>\n",
       "      <td>0.44</td>\n",
       "      <td>10.1</td>\n",
       "      <td>1</td>\n",
       "      <td>0</td>\n",
       "      <td>0</td>\n",
       "      <td>0</td>\n",
       "      <td>0</td>\n",
       "      <td>0</td>\n",
       "      <td>1</td>\n",
       "      <td>0</td>\n",
       "    </tr>\n",
       "    <tr>\n",
       "      <th>3</th>\n",
       "      <td>7.2</td>\n",
       "      <td>0.230</td>\n",
       "      <td>0.32</td>\n",
       "      <td>8.5</td>\n",
       "      <td>0.058</td>\n",
       "      <td>47.0</td>\n",
       "      <td>186.0</td>\n",
       "      <td>0.99560</td>\n",
       "      <td>0.40</td>\n",
       "      <td>9.9</td>\n",
       "      <td>1</td>\n",
       "      <td>0</td>\n",
       "      <td>0</td>\n",
       "      <td>0</td>\n",
       "      <td>0</td>\n",
       "      <td>0</td>\n",
       "      <td>0</td>\n",
       "      <td>1</td>\n",
       "    </tr>\n",
       "    <tr>\n",
       "      <th>4</th>\n",
       "      <td>7.2</td>\n",
       "      <td>0.230</td>\n",
       "      <td>0.32</td>\n",
       "      <td>8.5</td>\n",
       "      <td>0.058</td>\n",
       "      <td>47.0</td>\n",
       "      <td>186.0</td>\n",
       "      <td>0.99560</td>\n",
       "      <td>0.40</td>\n",
       "      <td>9.9</td>\n",
       "      <td>1</td>\n",
       "      <td>0</td>\n",
       "      <td>0</td>\n",
       "      <td>0</td>\n",
       "      <td>0</td>\n",
       "      <td>0</td>\n",
       "      <td>0</td>\n",
       "      <td>1</td>\n",
       "    </tr>\n",
       "    <tr>\n",
       "      <th>5</th>\n",
       "      <td>8.1</td>\n",
       "      <td>0.280</td>\n",
       "      <td>0.40</td>\n",
       "      <td>6.9</td>\n",
       "      <td>0.050</td>\n",
       "      <td>30.0</td>\n",
       "      <td>97.0</td>\n",
       "      <td>0.99510</td>\n",
       "      <td>0.44</td>\n",
       "      <td>10.1</td>\n",
       "      <td>1</td>\n",
       "      <td>0</td>\n",
       "      <td>0</td>\n",
       "      <td>0</td>\n",
       "      <td>0</td>\n",
       "      <td>0</td>\n",
       "      <td>1</td>\n",
       "      <td>0</td>\n",
       "    </tr>\n",
       "    <tr>\n",
       "      <th>...</th>\n",
       "      <td>...</td>\n",
       "      <td>...</td>\n",
       "      <td>...</td>\n",
       "      <td>...</td>\n",
       "      <td>...</td>\n",
       "      <td>...</td>\n",
       "      <td>...</td>\n",
       "      <td>...</td>\n",
       "      <td>...</td>\n",
       "      <td>...</td>\n",
       "      <td>...</td>\n",
       "      <td>...</td>\n",
       "      <td>...</td>\n",
       "      <td>...</td>\n",
       "      <td>...</td>\n",
       "      <td>...</td>\n",
       "      <td>...</td>\n",
       "      <td>...</td>\n",
       "    </tr>\n",
       "    <tr>\n",
       "      <th>6491</th>\n",
       "      <td>6.3</td>\n",
       "      <td>0.510</td>\n",
       "      <td>0.13</td>\n",
       "      <td>2.3</td>\n",
       "      <td>0.076</td>\n",
       "      <td>29.0</td>\n",
       "      <td>40.0</td>\n",
       "      <td>0.99574</td>\n",
       "      <td>0.75</td>\n",
       "      <td>11.0</td>\n",
       "      <td>0</td>\n",
       "      <td>0</td>\n",
       "      <td>0</td>\n",
       "      <td>0</td>\n",
       "      <td>0</td>\n",
       "      <td>1</td>\n",
       "      <td>0</td>\n",
       "      <td>0</td>\n",
       "    </tr>\n",
       "    <tr>\n",
       "      <th>6494</th>\n",
       "      <td>5.9</td>\n",
       "      <td>0.550</td>\n",
       "      <td>0.10</td>\n",
       "      <td>2.2</td>\n",
       "      <td>0.062</td>\n",
       "      <td>39.0</td>\n",
       "      <td>51.0</td>\n",
       "      <td>0.99512</td>\n",
       "      <td>0.76</td>\n",
       "      <td>11.2</td>\n",
       "      <td>0</td>\n",
       "      <td>0</td>\n",
       "      <td>0</td>\n",
       "      <td>0</td>\n",
       "      <td>0</td>\n",
       "      <td>1</td>\n",
       "      <td>0</td>\n",
       "      <td>0</td>\n",
       "    </tr>\n",
       "    <tr>\n",
       "      <th>6495</th>\n",
       "      <td>6.3</td>\n",
       "      <td>0.510</td>\n",
       "      <td>0.13</td>\n",
       "      <td>2.3</td>\n",
       "      <td>0.076</td>\n",
       "      <td>29.0</td>\n",
       "      <td>40.0</td>\n",
       "      <td>0.99574</td>\n",
       "      <td>0.75</td>\n",
       "      <td>11.0</td>\n",
       "      <td>0</td>\n",
       "      <td>0</td>\n",
       "      <td>0</td>\n",
       "      <td>0</td>\n",
       "      <td>0</td>\n",
       "      <td>1</td>\n",
       "      <td>0</td>\n",
       "      <td>0</td>\n",
       "    </tr>\n",
       "    <tr>\n",
       "      <th>6496</th>\n",
       "      <td>5.9</td>\n",
       "      <td>0.645</td>\n",
       "      <td>0.12</td>\n",
       "      <td>2.0</td>\n",
       "      <td>0.075</td>\n",
       "      <td>32.0</td>\n",
       "      <td>44.0</td>\n",
       "      <td>0.99547</td>\n",
       "      <td>0.71</td>\n",
       "      <td>10.2</td>\n",
       "      <td>0</td>\n",
       "      <td>0</td>\n",
       "      <td>0</td>\n",
       "      <td>0</td>\n",
       "      <td>0</td>\n",
       "      <td>1</td>\n",
       "      <td>0</td>\n",
       "      <td>0</td>\n",
       "    </tr>\n",
       "    <tr>\n",
       "      <th>6497</th>\n",
       "      <td>6.0</td>\n",
       "      <td>0.310</td>\n",
       "      <td>0.47</td>\n",
       "      <td>3.6</td>\n",
       "      <td>0.067</td>\n",
       "      <td>18.0</td>\n",
       "      <td>42.0</td>\n",
       "      <td>0.99549</td>\n",
       "      <td>0.66</td>\n",
       "      <td>11.0</td>\n",
       "      <td>0</td>\n",
       "      <td>0</td>\n",
       "      <td>0</td>\n",
       "      <td>0</td>\n",
       "      <td>0</td>\n",
       "      <td>0</td>\n",
       "      <td>1</td>\n",
       "      <td>0</td>\n",
       "    </tr>\n",
       "  </tbody>\n",
       "</table>\n",
       "<p>4654 rows × 18 columns</p>\n",
       "</div>"
      ],
      "text/plain": [
       "      fixed acidity  volatile acidity  citric acid  residual sugar  chlorides  \\\n",
       "1               6.3             0.300         0.34             1.6      0.049   \n",
       "2               8.1             0.280         0.40             6.9      0.050   \n",
       "3               7.2             0.230         0.32             8.5      0.058   \n",
       "4               7.2             0.230         0.32             8.5      0.058   \n",
       "5               8.1             0.280         0.40             6.9      0.050   \n",
       "...             ...               ...          ...             ...        ...   \n",
       "6491            6.3             0.510         0.13             2.3      0.076   \n",
       "6494            5.9             0.550         0.10             2.2      0.062   \n",
       "6495            6.3             0.510         0.13             2.3      0.076   \n",
       "6496            5.9             0.645         0.12             2.0      0.075   \n",
       "6497            6.0             0.310         0.47             3.6      0.067   \n",
       "\n",
       "      free sulfur dioxide  total sulfur dioxide  density  sulphates  alcohol  \\\n",
       "1                    14.0                 132.0  0.99400       0.49      9.5   \n",
       "2                    30.0                  97.0  0.99510       0.44     10.1   \n",
       "3                    47.0                 186.0  0.99560       0.40      9.9   \n",
       "4                    47.0                 186.0  0.99560       0.40      9.9   \n",
       "5                    30.0                  97.0  0.99510       0.44     10.1   \n",
       "...                   ...                   ...      ...        ...      ...   \n",
       "6491                 29.0                  40.0  0.99574       0.75     11.0   \n",
       "6494                 39.0                  51.0  0.99512       0.76     11.2   \n",
       "6495                 29.0                  40.0  0.99574       0.75     11.0   \n",
       "6496                 32.0                  44.0  0.99547       0.71     10.2   \n",
       "6497                 18.0                  42.0  0.99549       0.66     11.0   \n",
       "\n",
       "      type  taste  acidic  extremly acidic  lightly acidic  midly acidic  \\\n",
       "1        1      0       0                0               0             0   \n",
       "2        1      0       0                0               0             0   \n",
       "3        1      0       0                0               0             0   \n",
       "4        1      0       0                0               0             0   \n",
       "5        1      0       0                0               0             0   \n",
       "...    ...    ...     ...              ...             ...           ...   \n",
       "6491     0      0       0                0               0             1   \n",
       "6494     0      0       0                0               0             1   \n",
       "6495     0      0       0                0               0             1   \n",
       "6496     0      0       0                0               0             1   \n",
       "6497     0      0       0                0               0             0   \n",
       "\n",
       "      quite acidic  very acidic  \n",
       "1                1            0  \n",
       "2                1            0  \n",
       "3                0            1  \n",
       "4                0            1  \n",
       "5                1            0  \n",
       "...            ...          ...  \n",
       "6491             0            0  \n",
       "6494             0            0  \n",
       "6495             0            0  \n",
       "6496             0            0  \n",
       "6497             1            0  \n",
       "\n",
       "[4654 rows x 18 columns]"
      ]
     },
     "execution_count": 41,
     "metadata": {},
     "output_type": "execute_result"
    }
   ],
   "source": [
    "#new dataframe including ph cat encoded\n",
    "combine = pd.concat([df, cat_ph],axis = 1)\n",
    "combine"
   ]
  },
  {
   "cell_type": "code",
   "execution_count": 42,
   "metadata": {
    "pycharm": {
     "is_executing": true,
     "name": "#%%\n"
    },
    "scrolled": true
   },
   "outputs": [
    {
     "data": {
      "text/html": [
       "<div>\n",
       "<style scoped>\n",
       "    .dataframe tbody tr th:only-of-type {\n",
       "        vertical-align: middle;\n",
       "    }\n",
       "\n",
       "    .dataframe tbody tr th {\n",
       "        vertical-align: top;\n",
       "    }\n",
       "\n",
       "    .dataframe thead th {\n",
       "        text-align: right;\n",
       "    }\n",
       "</style>\n",
       "<table border=\"1\" class=\"dataframe\">\n",
       "  <thead>\n",
       "    <tr style=\"text-align: right;\">\n",
       "      <th></th>\n",
       "      <th>fixed acidity</th>\n",
       "      <th>volatile acidity</th>\n",
       "      <th>citric acid</th>\n",
       "      <th>residual sugar</th>\n",
       "      <th>chlorides</th>\n",
       "      <th>free sulfur dioxide</th>\n",
       "      <th>total sulfur dioxide</th>\n",
       "      <th>density</th>\n",
       "      <th>sulphates</th>\n",
       "      <th>alcohol</th>\n",
       "      <th>type</th>\n",
       "      <th>taste</th>\n",
       "      <th>acidic</th>\n",
       "      <th>extremly acidic</th>\n",
       "      <th>lightly acidic</th>\n",
       "      <th>midly acidic</th>\n",
       "      <th>quite acidic</th>\n",
       "      <th>very acidic</th>\n",
       "    </tr>\n",
       "  </thead>\n",
       "  <tbody>\n",
       "    <tr>\n",
       "      <th>1</th>\n",
       "      <td>6.3</td>\n",
       "      <td>0.300</td>\n",
       "      <td>0.34</td>\n",
       "      <td>1.6</td>\n",
       "      <td>0.049</td>\n",
       "      <td>14.0</td>\n",
       "      <td>132.0</td>\n",
       "      <td>0.99400</td>\n",
       "      <td>0.49</td>\n",
       "      <td>9.5</td>\n",
       "      <td>1</td>\n",
       "      <td>0</td>\n",
       "      <td>0</td>\n",
       "      <td>0</td>\n",
       "      <td>0</td>\n",
       "      <td>0</td>\n",
       "      <td>1</td>\n",
       "      <td>0</td>\n",
       "    </tr>\n",
       "    <tr>\n",
       "      <th>2</th>\n",
       "      <td>8.1</td>\n",
       "      <td>0.280</td>\n",
       "      <td>0.40</td>\n",
       "      <td>6.9</td>\n",
       "      <td>0.050</td>\n",
       "      <td>30.0</td>\n",
       "      <td>97.0</td>\n",
       "      <td>0.99510</td>\n",
       "      <td>0.44</td>\n",
       "      <td>10.1</td>\n",
       "      <td>1</td>\n",
       "      <td>0</td>\n",
       "      <td>0</td>\n",
       "      <td>0</td>\n",
       "      <td>0</td>\n",
       "      <td>0</td>\n",
       "      <td>1</td>\n",
       "      <td>0</td>\n",
       "    </tr>\n",
       "    <tr>\n",
       "      <th>3</th>\n",
       "      <td>7.2</td>\n",
       "      <td>0.230</td>\n",
       "      <td>0.32</td>\n",
       "      <td>8.5</td>\n",
       "      <td>0.058</td>\n",
       "      <td>47.0</td>\n",
       "      <td>186.0</td>\n",
       "      <td>0.99560</td>\n",
       "      <td>0.40</td>\n",
       "      <td>9.9</td>\n",
       "      <td>1</td>\n",
       "      <td>0</td>\n",
       "      <td>0</td>\n",
       "      <td>0</td>\n",
       "      <td>0</td>\n",
       "      <td>0</td>\n",
       "      <td>0</td>\n",
       "      <td>1</td>\n",
       "    </tr>\n",
       "    <tr>\n",
       "      <th>4</th>\n",
       "      <td>7.2</td>\n",
       "      <td>0.230</td>\n",
       "      <td>0.32</td>\n",
       "      <td>8.5</td>\n",
       "      <td>0.058</td>\n",
       "      <td>47.0</td>\n",
       "      <td>186.0</td>\n",
       "      <td>0.99560</td>\n",
       "      <td>0.40</td>\n",
       "      <td>9.9</td>\n",
       "      <td>1</td>\n",
       "      <td>0</td>\n",
       "      <td>0</td>\n",
       "      <td>0</td>\n",
       "      <td>0</td>\n",
       "      <td>0</td>\n",
       "      <td>0</td>\n",
       "      <td>1</td>\n",
       "    </tr>\n",
       "    <tr>\n",
       "      <th>5</th>\n",
       "      <td>8.1</td>\n",
       "      <td>0.280</td>\n",
       "      <td>0.40</td>\n",
       "      <td>6.9</td>\n",
       "      <td>0.050</td>\n",
       "      <td>30.0</td>\n",
       "      <td>97.0</td>\n",
       "      <td>0.99510</td>\n",
       "      <td>0.44</td>\n",
       "      <td>10.1</td>\n",
       "      <td>1</td>\n",
       "      <td>0</td>\n",
       "      <td>0</td>\n",
       "      <td>0</td>\n",
       "      <td>0</td>\n",
       "      <td>0</td>\n",
       "      <td>1</td>\n",
       "      <td>0</td>\n",
       "    </tr>\n",
       "    <tr>\n",
       "      <th>...</th>\n",
       "      <td>...</td>\n",
       "      <td>...</td>\n",
       "      <td>...</td>\n",
       "      <td>...</td>\n",
       "      <td>...</td>\n",
       "      <td>...</td>\n",
       "      <td>...</td>\n",
       "      <td>...</td>\n",
       "      <td>...</td>\n",
       "      <td>...</td>\n",
       "      <td>...</td>\n",
       "      <td>...</td>\n",
       "      <td>...</td>\n",
       "      <td>...</td>\n",
       "      <td>...</td>\n",
       "      <td>...</td>\n",
       "      <td>...</td>\n",
       "      <td>...</td>\n",
       "    </tr>\n",
       "    <tr>\n",
       "      <th>6491</th>\n",
       "      <td>6.3</td>\n",
       "      <td>0.510</td>\n",
       "      <td>0.13</td>\n",
       "      <td>2.3</td>\n",
       "      <td>0.076</td>\n",
       "      <td>29.0</td>\n",
       "      <td>40.0</td>\n",
       "      <td>0.99574</td>\n",
       "      <td>0.75</td>\n",
       "      <td>11.0</td>\n",
       "      <td>0</td>\n",
       "      <td>0</td>\n",
       "      <td>0</td>\n",
       "      <td>0</td>\n",
       "      <td>0</td>\n",
       "      <td>1</td>\n",
       "      <td>0</td>\n",
       "      <td>0</td>\n",
       "    </tr>\n",
       "    <tr>\n",
       "      <th>6494</th>\n",
       "      <td>5.9</td>\n",
       "      <td>0.550</td>\n",
       "      <td>0.10</td>\n",
       "      <td>2.2</td>\n",
       "      <td>0.062</td>\n",
       "      <td>39.0</td>\n",
       "      <td>51.0</td>\n",
       "      <td>0.99512</td>\n",
       "      <td>0.76</td>\n",
       "      <td>11.2</td>\n",
       "      <td>0</td>\n",
       "      <td>0</td>\n",
       "      <td>0</td>\n",
       "      <td>0</td>\n",
       "      <td>0</td>\n",
       "      <td>1</td>\n",
       "      <td>0</td>\n",
       "      <td>0</td>\n",
       "    </tr>\n",
       "    <tr>\n",
       "      <th>6495</th>\n",
       "      <td>6.3</td>\n",
       "      <td>0.510</td>\n",
       "      <td>0.13</td>\n",
       "      <td>2.3</td>\n",
       "      <td>0.076</td>\n",
       "      <td>29.0</td>\n",
       "      <td>40.0</td>\n",
       "      <td>0.99574</td>\n",
       "      <td>0.75</td>\n",
       "      <td>11.0</td>\n",
       "      <td>0</td>\n",
       "      <td>0</td>\n",
       "      <td>0</td>\n",
       "      <td>0</td>\n",
       "      <td>0</td>\n",
       "      <td>1</td>\n",
       "      <td>0</td>\n",
       "      <td>0</td>\n",
       "    </tr>\n",
       "    <tr>\n",
       "      <th>6496</th>\n",
       "      <td>5.9</td>\n",
       "      <td>0.645</td>\n",
       "      <td>0.12</td>\n",
       "      <td>2.0</td>\n",
       "      <td>0.075</td>\n",
       "      <td>32.0</td>\n",
       "      <td>44.0</td>\n",
       "      <td>0.99547</td>\n",
       "      <td>0.71</td>\n",
       "      <td>10.2</td>\n",
       "      <td>0</td>\n",
       "      <td>0</td>\n",
       "      <td>0</td>\n",
       "      <td>0</td>\n",
       "      <td>0</td>\n",
       "      <td>1</td>\n",
       "      <td>0</td>\n",
       "      <td>0</td>\n",
       "    </tr>\n",
       "    <tr>\n",
       "      <th>6497</th>\n",
       "      <td>6.0</td>\n",
       "      <td>0.310</td>\n",
       "      <td>0.47</td>\n",
       "      <td>3.6</td>\n",
       "      <td>0.067</td>\n",
       "      <td>18.0</td>\n",
       "      <td>42.0</td>\n",
       "      <td>0.99549</td>\n",
       "      <td>0.66</td>\n",
       "      <td>11.0</td>\n",
       "      <td>0</td>\n",
       "      <td>0</td>\n",
       "      <td>0</td>\n",
       "      <td>0</td>\n",
       "      <td>0</td>\n",
       "      <td>0</td>\n",
       "      <td>1</td>\n",
       "      <td>0</td>\n",
       "    </tr>\n",
       "  </tbody>\n",
       "</table>\n",
       "<p>4654 rows × 18 columns</p>\n",
       "</div>"
      ],
      "text/plain": [
       "      fixed acidity  volatile acidity  citric acid  residual sugar  chlorides  \\\n",
       "1               6.3             0.300         0.34             1.6      0.049   \n",
       "2               8.1             0.280         0.40             6.9      0.050   \n",
       "3               7.2             0.230         0.32             8.5      0.058   \n",
       "4               7.2             0.230         0.32             8.5      0.058   \n",
       "5               8.1             0.280         0.40             6.9      0.050   \n",
       "...             ...               ...          ...             ...        ...   \n",
       "6491            6.3             0.510         0.13             2.3      0.076   \n",
       "6494            5.9             0.550         0.10             2.2      0.062   \n",
       "6495            6.3             0.510         0.13             2.3      0.076   \n",
       "6496            5.9             0.645         0.12             2.0      0.075   \n",
       "6497            6.0             0.310         0.47             3.6      0.067   \n",
       "\n",
       "      free sulfur dioxide  total sulfur dioxide  density  sulphates  alcohol  \\\n",
       "1                    14.0                 132.0  0.99400       0.49      9.5   \n",
       "2                    30.0                  97.0  0.99510       0.44     10.1   \n",
       "3                    47.0                 186.0  0.99560       0.40      9.9   \n",
       "4                    47.0                 186.0  0.99560       0.40      9.9   \n",
       "5                    30.0                  97.0  0.99510       0.44     10.1   \n",
       "...                   ...                   ...      ...        ...      ...   \n",
       "6491                 29.0                  40.0  0.99574       0.75     11.0   \n",
       "6494                 39.0                  51.0  0.99512       0.76     11.2   \n",
       "6495                 29.0                  40.0  0.99574       0.75     11.0   \n",
       "6496                 32.0                  44.0  0.99547       0.71     10.2   \n",
       "6497                 18.0                  42.0  0.99549       0.66     11.0   \n",
       "\n",
       "      type  taste  acidic  extremly acidic  lightly acidic  midly acidic  \\\n",
       "1        1      0       0                0               0             0   \n",
       "2        1      0       0                0               0             0   \n",
       "3        1      0       0                0               0             0   \n",
       "4        1      0       0                0               0             0   \n",
       "5        1      0       0                0               0             0   \n",
       "...    ...    ...     ...              ...             ...           ...   \n",
       "6491     0      0       0                0               0             1   \n",
       "6494     0      0       0                0               0             1   \n",
       "6495     0      0       0                0               0             1   \n",
       "6496     0      0       0                0               0             1   \n",
       "6497     0      0       0                0               0             0   \n",
       "\n",
       "      quite acidic  very acidic  \n",
       "1                1            0  \n",
       "2                1            0  \n",
       "3                0            1  \n",
       "4                0            1  \n",
       "5                1            0  \n",
       "...            ...          ...  \n",
       "6491             0            0  \n",
       "6494             0            0  \n",
       "6495             0            0  \n",
       "6496             0            0  \n",
       "6497             1            0  \n",
       "\n",
       "[4654 rows x 18 columns]"
      ]
     },
     "execution_count": 42,
     "metadata": {},
     "output_type": "execute_result"
    }
   ],
   "source": [
    "cat = list(combine.select_dtypes(include='object').columns)\n",
    "num = list(combine.select_dtypes(exclude='object').columns)\n",
    "cat, num\n",
    "combine"
   ]
  },
  {
   "cell_type": "code",
   "execution_count": 43,
   "metadata": {
    "scrolled": true
   },
   "outputs": [
    {
     "data": {
      "text/plain": [
       "1    4286\n",
       "0     368\n",
       "Name: type, dtype: int64"
      ]
     },
     "execution_count": 43,
     "metadata": {},
     "output_type": "execute_result"
    }
   ],
   "source": [
    "combine['type'].value_counts()"
   ]
  },
  {
   "cell_type": "markdown",
   "metadata": {},
   "source": [
    "<p> 1 - white </p>\n",
    "<p> 0 - red  </p>"
   ]
  },
  {
   "cell_type": "code",
   "execution_count": 44,
   "metadata": {},
   "outputs": [
    {
     "data": {
      "text/plain": [
       "0    3603\n",
       "1    1051\n",
       "Name: taste, dtype: int64"
      ]
     },
     "execution_count": 44,
     "metadata": {},
     "output_type": "execute_result"
    }
   ],
   "source": [
    "combine['taste'].value_counts()"
   ]
  },
  {
   "cell_type": "markdown",
   "metadata": {},
   "source": [
    "<p> 1 - good </p>\n",
    "<p> 0 - normal  </p>\n",
    "<p> 0 - normal  </p>"
   ]
  },
  {
   "cell_type": "markdown",
   "metadata": {
    "pycharm": {
     "name": "#%% md\n"
    }
   },
   "source": [
    "<p> here we convert the values of the categorical variable 'pHValue' to dummy variables </p>"
   ]
  },
  {
   "cell_type": "code",
   "execution_count": 45,
   "metadata": {
    "pycharm": {
     "is_executing": true,
     "name": "#%%\n"
    }
   },
   "outputs": [
    {
     "data": {
      "text/html": [
       "<div>\n",
       "<style scoped>\n",
       "    .dataframe tbody tr th:only-of-type {\n",
       "        vertical-align: middle;\n",
       "    }\n",
       "\n",
       "    .dataframe tbody tr th {\n",
       "        vertical-align: top;\n",
       "    }\n",
       "\n",
       "    .dataframe thead th {\n",
       "        text-align: right;\n",
       "    }\n",
       "</style>\n",
       "<table border=\"1\" class=\"dataframe\">\n",
       "  <thead>\n",
       "    <tr style=\"text-align: right;\">\n",
       "      <th></th>\n",
       "      <th>fixed acidity</th>\n",
       "      <th>volatile acidity</th>\n",
       "      <th>citric acid</th>\n",
       "      <th>residual sugar</th>\n",
       "      <th>chlorides</th>\n",
       "      <th>free sulfur dioxide</th>\n",
       "      <th>total sulfur dioxide</th>\n",
       "      <th>density</th>\n",
       "      <th>sulphates</th>\n",
       "      <th>alcohol</th>\n",
       "      <th>type</th>\n",
       "      <th>taste</th>\n",
       "      <th>acidic</th>\n",
       "      <th>extremly acidic</th>\n",
       "      <th>lightly acidic</th>\n",
       "      <th>midly acidic</th>\n",
       "      <th>quite acidic</th>\n",
       "      <th>very acidic</th>\n",
       "    </tr>\n",
       "  </thead>\n",
       "  <tbody>\n",
       "    <tr>\n",
       "      <th>fixed acidity</th>\n",
       "      <td>1.000000</td>\n",
       "      <td>0.074142</td>\n",
       "      <td>0.260695</td>\n",
       "      <td>-0.000025</td>\n",
       "      <td>0.205592</td>\n",
       "      <td>-0.120953</td>\n",
       "      <td>-0.068517</td>\n",
       "      <td>0.276185</td>\n",
       "      <td>0.056942</td>\n",
       "      <td>-0.096021</td>\n",
       "      <td>-0.231552</td>\n",
       "      <td>-0.052694</td>\n",
       "      <td>-0.098278</td>\n",
       "      <td>0.180878</td>\n",
       "      <td>-0.060130</td>\n",
       "      <td>-0.128335</td>\n",
       "      <td>-0.164609</td>\n",
       "      <td>0.167902</td>\n",
       "    </tr>\n",
       "    <tr>\n",
       "      <th>volatile acidity</th>\n",
       "      <td>0.074142</td>\n",
       "      <td>1.000000</td>\n",
       "      <td>-0.232677</td>\n",
       "      <td>-0.057859</td>\n",
       "      <td>0.279876</td>\n",
       "      <td>-0.202038</td>\n",
       "      <td>-0.148637</td>\n",
       "      <td>0.091985</td>\n",
       "      <td>0.112550</td>\n",
       "      <td>0.052272</td>\n",
       "      <td>-0.467810</td>\n",
       "      <td>-0.072920</td>\n",
       "      <td>-0.033430</td>\n",
       "      <td>-0.102918</td>\n",
       "      <td>0.021797</td>\n",
       "      <td>0.058940</td>\n",
       "      <td>0.070696</td>\n",
       "      <td>-0.045645</td>\n",
       "    </tr>\n",
       "    <tr>\n",
       "      <th>citric acid</th>\n",
       "      <td>0.260695</td>\n",
       "      <td>-0.232677</td>\n",
       "      <td>1.000000</td>\n",
       "      <td>0.054792</td>\n",
       "      <td>-0.076793</td>\n",
       "      <td>0.107726</td>\n",
       "      <td>0.139584</td>\n",
       "      <td>0.041251</td>\n",
       "      <td>0.023420</td>\n",
       "      <td>0.022082</td>\n",
       "      <td>0.141970</td>\n",
       "      <td>0.031534</td>\n",
       "      <td>-0.066731</td>\n",
       "      <td>0.037293</td>\n",
       "      <td>-0.031146</td>\n",
       "      <td>-0.076364</td>\n",
       "      <td>-0.084526</td>\n",
       "      <td>0.125082</td>\n",
       "    </tr>\n",
       "    <tr>\n",
       "      <th>residual sugar</th>\n",
       "      <td>-0.000025</td>\n",
       "      <td>-0.057859</td>\n",
       "      <td>0.054792</td>\n",
       "      <td>1.000000</td>\n",
       "      <td>0.076408</td>\n",
       "      <td>0.387628</td>\n",
       "      <td>0.450700</td>\n",
       "      <td>0.740472</td>\n",
       "      <td>-0.104373</td>\n",
       "      <td>-0.439840</td>\n",
       "      <td>0.219651</td>\n",
       "      <td>-0.086661</td>\n",
       "      <td>-0.053006</td>\n",
       "      <td>0.090361</td>\n",
       "      <td>-0.026775</td>\n",
       "      <td>-0.133831</td>\n",
       "      <td>-0.105773</td>\n",
       "      <td>0.149329</td>\n",
       "    </tr>\n",
       "    <tr>\n",
       "      <th>chlorides</th>\n",
       "      <td>0.205592</td>\n",
       "      <td>0.279876</td>\n",
       "      <td>-0.076793</td>\n",
       "      <td>0.076408</td>\n",
       "      <td>1.000000</td>\n",
       "      <td>-0.050224</td>\n",
       "      <td>-0.037534</td>\n",
       "      <td>0.509101</td>\n",
       "      <td>0.235420</td>\n",
       "      <td>-0.444506</td>\n",
       "      <td>-0.579077</td>\n",
       "      <td>-0.232155</td>\n",
       "      <td>0.047801</td>\n",
       "      <td>-0.070894</td>\n",
       "      <td>0.015815</td>\n",
       "      <td>0.105078</td>\n",
       "      <td>0.055021</td>\n",
       "      <td>-0.090433</td>\n",
       "    </tr>\n",
       "    <tr>\n",
       "      <th>free sulfur dioxide</th>\n",
       "      <td>-0.120953</td>\n",
       "      <td>-0.202038</td>\n",
       "      <td>0.107726</td>\n",
       "      <td>0.387628</td>\n",
       "      <td>-0.050224</td>\n",
       "      <td>1.000000</td>\n",
       "      <td>0.659630</td>\n",
       "      <td>0.246989</td>\n",
       "      <td>-0.045403</td>\n",
       "      <td>-0.234723</td>\n",
       "      <td>0.298227</td>\n",
       "      <td>-0.015064</td>\n",
       "      <td>-0.003422</td>\n",
       "      <td>-0.025025</td>\n",
       "      <td>-0.015703</td>\n",
       "      <td>-0.052061</td>\n",
       "      <td>-0.066260</td>\n",
       "      <td>0.111617</td>\n",
       "    </tr>\n",
       "    <tr>\n",
       "      <th>total sulfur dioxide</th>\n",
       "      <td>-0.068517</td>\n",
       "      <td>-0.148637</td>\n",
       "      <td>0.139584</td>\n",
       "      <td>0.450700</td>\n",
       "      <td>-0.037534</td>\n",
       "      <td>0.659630</td>\n",
       "      <td>1.000000</td>\n",
       "      <td>0.358981</td>\n",
       "      <td>-0.063240</td>\n",
       "      <td>-0.386791</td>\n",
       "      <td>0.495440</td>\n",
       "      <td>-0.118440</td>\n",
       "      <td>-0.016480</td>\n",
       "      <td>-0.041727</td>\n",
       "      <td>-0.006939</td>\n",
       "      <td>-0.108428</td>\n",
       "      <td>-0.084214</td>\n",
       "      <td>0.173821</td>\n",
       "    </tr>\n",
       "    <tr>\n",
       "      <th>density</th>\n",
       "      <td>0.276185</td>\n",
       "      <td>0.091985</td>\n",
       "      <td>0.041251</td>\n",
       "      <td>0.740472</td>\n",
       "      <td>0.509101</td>\n",
       "      <td>0.246989</td>\n",
       "      <td>0.358981</td>\n",
       "      <td>1.000000</td>\n",
       "      <td>0.141261</td>\n",
       "      <td>-0.793823</td>\n",
       "      <td>-0.189049</td>\n",
       "      <td>-0.279177</td>\n",
       "      <td>0.016958</td>\n",
       "      <td>-0.002184</td>\n",
       "      <td>0.001708</td>\n",
       "      <td>0.034040</td>\n",
       "      <td>-0.035196</td>\n",
       "      <td>0.012092</td>\n",
       "    </tr>\n",
       "    <tr>\n",
       "      <th>sulphates</th>\n",
       "      <td>0.056942</td>\n",
       "      <td>0.112550</td>\n",
       "      <td>0.023420</td>\n",
       "      <td>-0.104373</td>\n",
       "      <td>0.235420</td>\n",
       "      <td>-0.045403</td>\n",
       "      <td>-0.063240</td>\n",
       "      <td>0.141261</td>\n",
       "      <td>1.000000</td>\n",
       "      <td>-0.032331</td>\n",
       "      <td>-0.326364</td>\n",
       "      <td>0.017739</td>\n",
       "      <td>0.084086</td>\n",
       "      <td>-0.129237</td>\n",
       "      <td>0.018739</td>\n",
       "      <td>0.142308</td>\n",
       "      <td>0.092735</td>\n",
       "      <td>-0.126622</td>\n",
       "    </tr>\n",
       "    <tr>\n",
       "      <th>alcohol</th>\n",
       "      <td>-0.096021</td>\n",
       "      <td>0.052272</td>\n",
       "      <td>0.022082</td>\n",
       "      <td>-0.439840</td>\n",
       "      <td>-0.444506</td>\n",
       "      <td>-0.234723</td>\n",
       "      <td>-0.386791</td>\n",
       "      <td>-0.793823</td>\n",
       "      <td>-0.032331</td>\n",
       "      <td>1.000000</td>\n",
       "      <td>0.002678</td>\n",
       "      <td>0.377291</td>\n",
       "      <td>0.007556</td>\n",
       "      <td>-0.017369</td>\n",
       "      <td>0.021112</td>\n",
       "      <td>0.013588</td>\n",
       "      <td>0.063534</td>\n",
       "      <td>-0.064788</td>\n",
       "    </tr>\n",
       "    <tr>\n",
       "      <th>type</th>\n",
       "      <td>-0.231552</td>\n",
       "      <td>-0.467810</td>\n",
       "      <td>0.141970</td>\n",
       "      <td>0.219651</td>\n",
       "      <td>-0.579077</td>\n",
       "      <td>0.298227</td>\n",
       "      <td>0.495440</td>\n",
       "      <td>-0.189049</td>\n",
       "      <td>-0.326364</td>\n",
       "      <td>0.002678</td>\n",
       "      <td>1.000000</td>\n",
       "      <td>0.051616</td>\n",
       "      <td>-0.035115</td>\n",
       "      <td>0.076419</td>\n",
       "      <td>-0.033853</td>\n",
       "      <td>-0.195519</td>\n",
       "      <td>-0.136991</td>\n",
       "      <td>0.221319</td>\n",
       "    </tr>\n",
       "    <tr>\n",
       "      <th>taste</th>\n",
       "      <td>-0.052694</td>\n",
       "      <td>-0.072920</td>\n",
       "      <td>0.031534</td>\n",
       "      <td>-0.086661</td>\n",
       "      <td>-0.232155</td>\n",
       "      <td>-0.015064</td>\n",
       "      <td>-0.118440</td>\n",
       "      <td>-0.279177</td>\n",
       "      <td>0.017739</td>\n",
       "      <td>0.377291</td>\n",
       "      <td>0.051616</td>\n",
       "      <td>1.000000</td>\n",
       "      <td>-0.012405</td>\n",
       "      <td>0.015297</td>\n",
       "      <td>-0.005084</td>\n",
       "      <td>0.053267</td>\n",
       "      <td>0.006372</td>\n",
       "      <td>-0.043334</td>\n",
       "    </tr>\n",
       "    <tr>\n",
       "      <th>acidic</th>\n",
       "      <td>-0.098278</td>\n",
       "      <td>-0.033430</td>\n",
       "      <td>-0.066731</td>\n",
       "      <td>-0.053006</td>\n",
       "      <td>0.047801</td>\n",
       "      <td>-0.003422</td>\n",
       "      <td>-0.016480</td>\n",
       "      <td>0.016958</td>\n",
       "      <td>0.084086</td>\n",
       "      <td>0.007556</td>\n",
       "      <td>-0.035115</td>\n",
       "      <td>-0.012405</td>\n",
       "      <td>1.000000</td>\n",
       "      <td>-0.028138</td>\n",
       "      <td>-0.003590</td>\n",
       "      <td>-0.032648</td>\n",
       "      <td>-0.080538</td>\n",
       "      <td>-0.085900</td>\n",
       "    </tr>\n",
       "    <tr>\n",
       "      <th>extremly acidic</th>\n",
       "      <td>0.180878</td>\n",
       "      <td>-0.102918</td>\n",
       "      <td>0.037293</td>\n",
       "      <td>0.090361</td>\n",
       "      <td>-0.070894</td>\n",
       "      <td>-0.025025</td>\n",
       "      <td>-0.041727</td>\n",
       "      <td>-0.002184</td>\n",
       "      <td>-0.129237</td>\n",
       "      <td>-0.017369</td>\n",
       "      <td>0.076419</td>\n",
       "      <td>0.015297</td>\n",
       "      <td>-0.028138</td>\n",
       "      <td>1.000000</td>\n",
       "      <td>-0.010119</td>\n",
       "      <td>-0.092027</td>\n",
       "      <td>-0.227014</td>\n",
       "      <td>-0.242127</td>\n",
       "    </tr>\n",
       "    <tr>\n",
       "      <th>lightly acidic</th>\n",
       "      <td>-0.060130</td>\n",
       "      <td>0.021797</td>\n",
       "      <td>-0.031146</td>\n",
       "      <td>-0.026775</td>\n",
       "      <td>0.015815</td>\n",
       "      <td>-0.015703</td>\n",
       "      <td>-0.006939</td>\n",
       "      <td>0.001708</td>\n",
       "      <td>0.018739</td>\n",
       "      <td>0.021112</td>\n",
       "      <td>-0.033853</td>\n",
       "      <td>-0.005084</td>\n",
       "      <td>-0.003590</td>\n",
       "      <td>-0.010119</td>\n",
       "      <td>1.000000</td>\n",
       "      <td>-0.011740</td>\n",
       "      <td>-0.028962</td>\n",
       "      <td>-0.030890</td>\n",
       "    </tr>\n",
       "    <tr>\n",
       "      <th>midly acidic</th>\n",
       "      <td>-0.128335</td>\n",
       "      <td>0.058940</td>\n",
       "      <td>-0.076364</td>\n",
       "      <td>-0.133831</td>\n",
       "      <td>0.105078</td>\n",
       "      <td>-0.052061</td>\n",
       "      <td>-0.108428</td>\n",
       "      <td>0.034040</td>\n",
       "      <td>0.142308</td>\n",
       "      <td>0.013588</td>\n",
       "      <td>-0.195519</td>\n",
       "      <td>0.053267</td>\n",
       "      <td>-0.032648</td>\n",
       "      <td>-0.092027</td>\n",
       "      <td>-0.011740</td>\n",
       "      <td>1.000000</td>\n",
       "      <td>-0.263402</td>\n",
       "      <td>-0.280938</td>\n",
       "    </tr>\n",
       "    <tr>\n",
       "      <th>quite acidic</th>\n",
       "      <td>-0.164609</td>\n",
       "      <td>0.070696</td>\n",
       "      <td>-0.084526</td>\n",
       "      <td>-0.105773</td>\n",
       "      <td>0.055021</td>\n",
       "      <td>-0.066260</td>\n",
       "      <td>-0.084214</td>\n",
       "      <td>-0.035196</td>\n",
       "      <td>0.092735</td>\n",
       "      <td>0.063534</td>\n",
       "      <td>-0.136991</td>\n",
       "      <td>0.006372</td>\n",
       "      <td>-0.080538</td>\n",
       "      <td>-0.227014</td>\n",
       "      <td>-0.028962</td>\n",
       "      <td>-0.263402</td>\n",
       "      <td>1.000000</td>\n",
       "      <td>-0.693026</td>\n",
       "    </tr>\n",
       "    <tr>\n",
       "      <th>very acidic</th>\n",
       "      <td>0.167902</td>\n",
       "      <td>-0.045645</td>\n",
       "      <td>0.125082</td>\n",
       "      <td>0.149329</td>\n",
       "      <td>-0.090433</td>\n",
       "      <td>0.111617</td>\n",
       "      <td>0.173821</td>\n",
       "      <td>0.012092</td>\n",
       "      <td>-0.126622</td>\n",
       "      <td>-0.064788</td>\n",
       "      <td>0.221319</td>\n",
       "      <td>-0.043334</td>\n",
       "      <td>-0.085900</td>\n",
       "      <td>-0.242127</td>\n",
       "      <td>-0.030890</td>\n",
       "      <td>-0.280938</td>\n",
       "      <td>-0.693026</td>\n",
       "      <td>1.000000</td>\n",
       "    </tr>\n",
       "  </tbody>\n",
       "</table>\n",
       "</div>"
      ],
      "text/plain": [
       "                      fixed acidity  volatile acidity  citric acid  \\\n",
       "fixed acidity              1.000000          0.074142     0.260695   \n",
       "volatile acidity           0.074142          1.000000    -0.232677   \n",
       "citric acid                0.260695         -0.232677     1.000000   \n",
       "residual sugar            -0.000025         -0.057859     0.054792   \n",
       "chlorides                  0.205592          0.279876    -0.076793   \n",
       "free sulfur dioxide       -0.120953         -0.202038     0.107726   \n",
       "total sulfur dioxide      -0.068517         -0.148637     0.139584   \n",
       "density                    0.276185          0.091985     0.041251   \n",
       "sulphates                  0.056942          0.112550     0.023420   \n",
       "alcohol                   -0.096021          0.052272     0.022082   \n",
       "type                      -0.231552         -0.467810     0.141970   \n",
       "taste                     -0.052694         -0.072920     0.031534   \n",
       "acidic                    -0.098278         -0.033430    -0.066731   \n",
       "extremly acidic            0.180878         -0.102918     0.037293   \n",
       "lightly acidic            -0.060130          0.021797    -0.031146   \n",
       "midly acidic              -0.128335          0.058940    -0.076364   \n",
       "quite acidic              -0.164609          0.070696    -0.084526   \n",
       "very acidic                0.167902         -0.045645     0.125082   \n",
       "\n",
       "                      residual sugar  chlorides  free sulfur dioxide  \\\n",
       "fixed acidity              -0.000025   0.205592            -0.120953   \n",
       "volatile acidity           -0.057859   0.279876            -0.202038   \n",
       "citric acid                 0.054792  -0.076793             0.107726   \n",
       "residual sugar              1.000000   0.076408             0.387628   \n",
       "chlorides                   0.076408   1.000000            -0.050224   \n",
       "free sulfur dioxide         0.387628  -0.050224             1.000000   \n",
       "total sulfur dioxide        0.450700  -0.037534             0.659630   \n",
       "density                     0.740472   0.509101             0.246989   \n",
       "sulphates                  -0.104373   0.235420            -0.045403   \n",
       "alcohol                    -0.439840  -0.444506            -0.234723   \n",
       "type                        0.219651  -0.579077             0.298227   \n",
       "taste                      -0.086661  -0.232155            -0.015064   \n",
       "acidic                     -0.053006   0.047801            -0.003422   \n",
       "extremly acidic             0.090361  -0.070894            -0.025025   \n",
       "lightly acidic             -0.026775   0.015815            -0.015703   \n",
       "midly acidic               -0.133831   0.105078            -0.052061   \n",
       "quite acidic               -0.105773   0.055021            -0.066260   \n",
       "very acidic                 0.149329  -0.090433             0.111617   \n",
       "\n",
       "                      total sulfur dioxide   density  sulphates   alcohol  \\\n",
       "fixed acidity                    -0.068517  0.276185   0.056942 -0.096021   \n",
       "volatile acidity                 -0.148637  0.091985   0.112550  0.052272   \n",
       "citric acid                       0.139584  0.041251   0.023420  0.022082   \n",
       "residual sugar                    0.450700  0.740472  -0.104373 -0.439840   \n",
       "chlorides                        -0.037534  0.509101   0.235420 -0.444506   \n",
       "free sulfur dioxide               0.659630  0.246989  -0.045403 -0.234723   \n",
       "total sulfur dioxide              1.000000  0.358981  -0.063240 -0.386791   \n",
       "density                           0.358981  1.000000   0.141261 -0.793823   \n",
       "sulphates                        -0.063240  0.141261   1.000000 -0.032331   \n",
       "alcohol                          -0.386791 -0.793823  -0.032331  1.000000   \n",
       "type                              0.495440 -0.189049  -0.326364  0.002678   \n",
       "taste                            -0.118440 -0.279177   0.017739  0.377291   \n",
       "acidic                           -0.016480  0.016958   0.084086  0.007556   \n",
       "extremly acidic                  -0.041727 -0.002184  -0.129237 -0.017369   \n",
       "lightly acidic                   -0.006939  0.001708   0.018739  0.021112   \n",
       "midly acidic                     -0.108428  0.034040   0.142308  0.013588   \n",
       "quite acidic                     -0.084214 -0.035196   0.092735  0.063534   \n",
       "very acidic                       0.173821  0.012092  -0.126622 -0.064788   \n",
       "\n",
       "                          type     taste    acidic  extremly acidic  \\\n",
       "fixed acidity        -0.231552 -0.052694 -0.098278         0.180878   \n",
       "volatile acidity     -0.467810 -0.072920 -0.033430        -0.102918   \n",
       "citric acid           0.141970  0.031534 -0.066731         0.037293   \n",
       "residual sugar        0.219651 -0.086661 -0.053006         0.090361   \n",
       "chlorides            -0.579077 -0.232155  0.047801        -0.070894   \n",
       "free sulfur dioxide   0.298227 -0.015064 -0.003422        -0.025025   \n",
       "total sulfur dioxide  0.495440 -0.118440 -0.016480        -0.041727   \n",
       "density              -0.189049 -0.279177  0.016958        -0.002184   \n",
       "sulphates            -0.326364  0.017739  0.084086        -0.129237   \n",
       "alcohol               0.002678  0.377291  0.007556        -0.017369   \n",
       "type                  1.000000  0.051616 -0.035115         0.076419   \n",
       "taste                 0.051616  1.000000 -0.012405         0.015297   \n",
       "acidic               -0.035115 -0.012405  1.000000        -0.028138   \n",
       "extremly acidic       0.076419  0.015297 -0.028138         1.000000   \n",
       "lightly acidic       -0.033853 -0.005084 -0.003590        -0.010119   \n",
       "midly acidic         -0.195519  0.053267 -0.032648        -0.092027   \n",
       "quite acidic         -0.136991  0.006372 -0.080538        -0.227014   \n",
       "very acidic           0.221319 -0.043334 -0.085900        -0.242127   \n",
       "\n",
       "                      lightly acidic  midly acidic  quite acidic  very acidic  \n",
       "fixed acidity              -0.060130     -0.128335     -0.164609     0.167902  \n",
       "volatile acidity            0.021797      0.058940      0.070696    -0.045645  \n",
       "citric acid                -0.031146     -0.076364     -0.084526     0.125082  \n",
       "residual sugar             -0.026775     -0.133831     -0.105773     0.149329  \n",
       "chlorides                   0.015815      0.105078      0.055021    -0.090433  \n",
       "free sulfur dioxide        -0.015703     -0.052061     -0.066260     0.111617  \n",
       "total sulfur dioxide       -0.006939     -0.108428     -0.084214     0.173821  \n",
       "density                     0.001708      0.034040     -0.035196     0.012092  \n",
       "sulphates                   0.018739      0.142308      0.092735    -0.126622  \n",
       "alcohol                     0.021112      0.013588      0.063534    -0.064788  \n",
       "type                       -0.033853     -0.195519     -0.136991     0.221319  \n",
       "taste                      -0.005084      0.053267      0.006372    -0.043334  \n",
       "acidic                     -0.003590     -0.032648     -0.080538    -0.085900  \n",
       "extremly acidic            -0.010119     -0.092027     -0.227014    -0.242127  \n",
       "lightly acidic              1.000000     -0.011740     -0.028962    -0.030890  \n",
       "midly acidic               -0.011740      1.000000     -0.263402    -0.280938  \n",
       "quite acidic               -0.028962     -0.263402      1.000000    -0.693026  \n",
       "very acidic                -0.030890     -0.280938     -0.693026     1.000000  "
      ]
     },
     "execution_count": 45,
     "metadata": {},
     "output_type": "execute_result"
    }
   ],
   "source": [
    "combine.corr()"
   ]
  },
  {
   "cell_type": "code",
   "execution_count": 46,
   "metadata": {
    "scrolled": true
   },
   "outputs": [
    {
     "data": {
      "text/plain": [
       "(4654, 18)"
      ]
     },
     "execution_count": 46,
     "metadata": {},
     "output_type": "execute_result"
    }
   ],
   "source": [
    "combine.shape"
   ]
  },
  {
   "cell_type": "code",
   "execution_count": 47,
   "metadata": {
    "scrolled": true
   },
   "outputs": [
    {
     "data": {
      "text/html": [
       "<div>\n",
       "<style scoped>\n",
       "    .dataframe tbody tr th:only-of-type {\n",
       "        vertical-align: middle;\n",
       "    }\n",
       "\n",
       "    .dataframe tbody tr th {\n",
       "        vertical-align: top;\n",
       "    }\n",
       "\n",
       "    .dataframe thead th {\n",
       "        text-align: right;\n",
       "    }\n",
       "</style>\n",
       "<table border=\"1\" class=\"dataframe\">\n",
       "  <thead>\n",
       "    <tr style=\"text-align: right;\">\n",
       "      <th></th>\n",
       "      <th>fixed acidity</th>\n",
       "      <th>volatile acidity</th>\n",
       "      <th>citric acid</th>\n",
       "      <th>residual sugar</th>\n",
       "      <th>chlorides</th>\n",
       "      <th>free sulfur dioxide</th>\n",
       "      <th>total sulfur dioxide</th>\n",
       "      <th>density</th>\n",
       "      <th>sulphates</th>\n",
       "      <th>alcohol</th>\n",
       "      <th>type</th>\n",
       "      <th>taste</th>\n",
       "    </tr>\n",
       "  </thead>\n",
       "  <tbody>\n",
       "    <tr>\n",
       "      <th>1</th>\n",
       "      <td>6.3</td>\n",
       "      <td>0.300</td>\n",
       "      <td>0.34</td>\n",
       "      <td>1.6</td>\n",
       "      <td>0.049</td>\n",
       "      <td>14.0</td>\n",
       "      <td>132.0</td>\n",
       "      <td>0.99400</td>\n",
       "      <td>0.49</td>\n",
       "      <td>9.5</td>\n",
       "      <td>1</td>\n",
       "      <td>0</td>\n",
       "    </tr>\n",
       "    <tr>\n",
       "      <th>2</th>\n",
       "      <td>8.1</td>\n",
       "      <td>0.280</td>\n",
       "      <td>0.40</td>\n",
       "      <td>6.9</td>\n",
       "      <td>0.050</td>\n",
       "      <td>30.0</td>\n",
       "      <td>97.0</td>\n",
       "      <td>0.99510</td>\n",
       "      <td>0.44</td>\n",
       "      <td>10.1</td>\n",
       "      <td>1</td>\n",
       "      <td>0</td>\n",
       "    </tr>\n",
       "    <tr>\n",
       "      <th>3</th>\n",
       "      <td>7.2</td>\n",
       "      <td>0.230</td>\n",
       "      <td>0.32</td>\n",
       "      <td>8.5</td>\n",
       "      <td>0.058</td>\n",
       "      <td>47.0</td>\n",
       "      <td>186.0</td>\n",
       "      <td>0.99560</td>\n",
       "      <td>0.40</td>\n",
       "      <td>9.9</td>\n",
       "      <td>1</td>\n",
       "      <td>0</td>\n",
       "    </tr>\n",
       "    <tr>\n",
       "      <th>4</th>\n",
       "      <td>7.2</td>\n",
       "      <td>0.230</td>\n",
       "      <td>0.32</td>\n",
       "      <td>8.5</td>\n",
       "      <td>0.058</td>\n",
       "      <td>47.0</td>\n",
       "      <td>186.0</td>\n",
       "      <td>0.99560</td>\n",
       "      <td>0.40</td>\n",
       "      <td>9.9</td>\n",
       "      <td>1</td>\n",
       "      <td>0</td>\n",
       "    </tr>\n",
       "    <tr>\n",
       "      <th>5</th>\n",
       "      <td>8.1</td>\n",
       "      <td>0.280</td>\n",
       "      <td>0.40</td>\n",
       "      <td>6.9</td>\n",
       "      <td>0.050</td>\n",
       "      <td>30.0</td>\n",
       "      <td>97.0</td>\n",
       "      <td>0.99510</td>\n",
       "      <td>0.44</td>\n",
       "      <td>10.1</td>\n",
       "      <td>1</td>\n",
       "      <td>0</td>\n",
       "    </tr>\n",
       "    <tr>\n",
       "      <th>...</th>\n",
       "      <td>...</td>\n",
       "      <td>...</td>\n",
       "      <td>...</td>\n",
       "      <td>...</td>\n",
       "      <td>...</td>\n",
       "      <td>...</td>\n",
       "      <td>...</td>\n",
       "      <td>...</td>\n",
       "      <td>...</td>\n",
       "      <td>...</td>\n",
       "      <td>...</td>\n",
       "      <td>...</td>\n",
       "    </tr>\n",
       "    <tr>\n",
       "      <th>6491</th>\n",
       "      <td>6.3</td>\n",
       "      <td>0.510</td>\n",
       "      <td>0.13</td>\n",
       "      <td>2.3</td>\n",
       "      <td>0.076</td>\n",
       "      <td>29.0</td>\n",
       "      <td>40.0</td>\n",
       "      <td>0.99574</td>\n",
       "      <td>0.75</td>\n",
       "      <td>11.0</td>\n",
       "      <td>0</td>\n",
       "      <td>0</td>\n",
       "    </tr>\n",
       "    <tr>\n",
       "      <th>6494</th>\n",
       "      <td>5.9</td>\n",
       "      <td>0.550</td>\n",
       "      <td>0.10</td>\n",
       "      <td>2.2</td>\n",
       "      <td>0.062</td>\n",
       "      <td>39.0</td>\n",
       "      <td>51.0</td>\n",
       "      <td>0.99512</td>\n",
       "      <td>0.76</td>\n",
       "      <td>11.2</td>\n",
       "      <td>0</td>\n",
       "      <td>0</td>\n",
       "    </tr>\n",
       "    <tr>\n",
       "      <th>6495</th>\n",
       "      <td>6.3</td>\n",
       "      <td>0.510</td>\n",
       "      <td>0.13</td>\n",
       "      <td>2.3</td>\n",
       "      <td>0.076</td>\n",
       "      <td>29.0</td>\n",
       "      <td>40.0</td>\n",
       "      <td>0.99574</td>\n",
       "      <td>0.75</td>\n",
       "      <td>11.0</td>\n",
       "      <td>0</td>\n",
       "      <td>0</td>\n",
       "    </tr>\n",
       "    <tr>\n",
       "      <th>6496</th>\n",
       "      <td>5.9</td>\n",
       "      <td>0.645</td>\n",
       "      <td>0.12</td>\n",
       "      <td>2.0</td>\n",
       "      <td>0.075</td>\n",
       "      <td>32.0</td>\n",
       "      <td>44.0</td>\n",
       "      <td>0.99547</td>\n",
       "      <td>0.71</td>\n",
       "      <td>10.2</td>\n",
       "      <td>0</td>\n",
       "      <td>0</td>\n",
       "    </tr>\n",
       "    <tr>\n",
       "      <th>6497</th>\n",
       "      <td>6.0</td>\n",
       "      <td>0.310</td>\n",
       "      <td>0.47</td>\n",
       "      <td>3.6</td>\n",
       "      <td>0.067</td>\n",
       "      <td>18.0</td>\n",
       "      <td>42.0</td>\n",
       "      <td>0.99549</td>\n",
       "      <td>0.66</td>\n",
       "      <td>11.0</td>\n",
       "      <td>0</td>\n",
       "      <td>0</td>\n",
       "    </tr>\n",
       "  </tbody>\n",
       "</table>\n",
       "<p>4654 rows × 12 columns</p>\n",
       "</div>"
      ],
      "text/plain": [
       "      fixed acidity  volatile acidity  citric acid  residual sugar  chlorides  \\\n",
       "1               6.3             0.300         0.34             1.6      0.049   \n",
       "2               8.1             0.280         0.40             6.9      0.050   \n",
       "3               7.2             0.230         0.32             8.5      0.058   \n",
       "4               7.2             0.230         0.32             8.5      0.058   \n",
       "5               8.1             0.280         0.40             6.9      0.050   \n",
       "...             ...               ...          ...             ...        ...   \n",
       "6491            6.3             0.510         0.13             2.3      0.076   \n",
       "6494            5.9             0.550         0.10             2.2      0.062   \n",
       "6495            6.3             0.510         0.13             2.3      0.076   \n",
       "6496            5.9             0.645         0.12             2.0      0.075   \n",
       "6497            6.0             0.310         0.47             3.6      0.067   \n",
       "\n",
       "      free sulfur dioxide  total sulfur dioxide  density  sulphates  alcohol  \\\n",
       "1                    14.0                 132.0  0.99400       0.49      9.5   \n",
       "2                    30.0                  97.0  0.99510       0.44     10.1   \n",
       "3                    47.0                 186.0  0.99560       0.40      9.9   \n",
       "4                    47.0                 186.0  0.99560       0.40      9.9   \n",
       "5                    30.0                  97.0  0.99510       0.44     10.1   \n",
       "...                   ...                   ...      ...        ...      ...   \n",
       "6491                 29.0                  40.0  0.99574       0.75     11.0   \n",
       "6494                 39.0                  51.0  0.99512       0.76     11.2   \n",
       "6495                 29.0                  40.0  0.99574       0.75     11.0   \n",
       "6496                 32.0                  44.0  0.99547       0.71     10.2   \n",
       "6497                 18.0                  42.0  0.99549       0.66     11.0   \n",
       "\n",
       "      type  taste  \n",
       "1        1      0  \n",
       "2        1      0  \n",
       "3        1      0  \n",
       "4        1      0  \n",
       "5        1      0  \n",
       "...    ...    ...  \n",
       "6491     0      0  \n",
       "6494     0      0  \n",
       "6495     0      0  \n",
       "6496     0      0  \n",
       "6497     0      0  \n",
       "\n",
       "[4654 rows x 12 columns]"
      ]
     },
     "execution_count": 47,
     "metadata": {},
     "output_type": "execute_result"
    }
   ],
   "source": [
    "df"
   ]
  },
  {
   "cell_type": "markdown",
   "metadata": {
    "pycharm": {
     "name": "#%% md\n"
    }
   },
   "source": [
    "## Decision Tree Model (Model 1)"
   ]
  },
  {
   "cell_type": "markdown",
   "metadata": {
    "pycharm": {
     "name": "#%% md\n"
    }
   },
   "source": [
    "#### using Standard Sklearn library"
   ]
  },
  {
   "cell_type": "markdown",
   "metadata": {
    "pycharm": {
     "name": "#%% md\n"
    }
   },
   "source": [
    "<b> Split training and testing data <b>"
   ]
  },
  {
   "cell_type": "markdown",
   "metadata": {},
   "source": [
    "<b> build with ph <b>"
   ]
  },
  {
   "cell_type": "code",
   "execution_count": 64,
   "metadata": {},
   "outputs": [],
   "source": [
    "X_cat = combine.drop('taste',axis = 1)\n",
    "y_cat = combine['taste'] \n",
    "X = df.drop('taste',axis = 1)\n",
    "y = df['taste']"
   ]
  },
  {
   "cell_type": "code",
   "execution_count": 65,
   "metadata": {
    "pycharm": {
     "is_executing": true,
     "name": "#%%\n"
    }
   },
   "outputs": [
    {
     "data": {
      "text/plain": [
       "DecisionTreeClassifier(max_depth=10)"
      ]
     },
     "execution_count": 65,
     "metadata": {},
     "output_type": "execute_result"
    }
   ],
   "source": [
    "## Scikit learn's DT \n",
    "X_train, X_test, y_train, y_test = train_test_split(X_cat, \n",
    "                                                   y_cat, \n",
    "                                                    test_size = 0.2, \n",
    "                                                    random_state=1)\n",
    "\n",
    "model = DecisionTreeClassifier(max_depth=10)\n",
    "model.fit(X_train, y_train)"
   ]
  },
  {
   "cell_type": "markdown",
   "metadata": {},
   "source": [
    "<b> performance report <b>"
   ]
  },
  {
   "cell_type": "code",
   "execution_count": 66,
   "metadata": {
    "pycharm": {
     "is_executing": true,
     "name": "#%%\n"
    },
    "scrolled": true
   },
   "outputs": [
    {
     "name": "stdout",
     "output_type": "stream",
     "text": [
      "[[605 122]\n",
      " [ 96 108]]\n",
      "              precision    recall  f1-score   support\n",
      "\n",
      "           0       0.86      0.83      0.85       727\n",
      "           1       0.47      0.53      0.50       204\n",
      "\n",
      "    accuracy                           0.77       931\n",
      "   macro avg       0.67      0.68      0.67       931\n",
      "weighted avg       0.78      0.77      0.77       931\n",
      "\n",
      "0.765843179377014\n"
     ]
    }
   ],
   "source": [
    "from sklearn.metrics import classification_report,confusion_matrix,accuracy_score\n",
    "y_pred = model.predict(X_test)\n",
    "print(confusion_matrix(y_test,y_pred))\n",
    "print(classification_report(y_test,y_pred))\n",
    "print(accuracy_score(y_test, y_pred))"
   ]
  },
  {
   "cell_type": "markdown",
   "metadata": {},
   "source": [
    " <b> build without ph <b>"
   ]
  },
  {
   "cell_type": "code",
   "execution_count": 67,
   "metadata": {},
   "outputs": [
    {
     "data": {
      "text/plain": [
       "DecisionTreeClassifier(max_depth=10)"
      ]
     },
     "execution_count": 67,
     "metadata": {},
     "output_type": "execute_result"
    }
   ],
   "source": [
    "# splitting training and testing data\n",
    "X_train, X_test, y_train, y_test = train_test_split(X, y, test_size = 0.2, random_state=1)\n",
    "# building model with sklearn\n",
    "model = DecisionTreeClassifier(max_depth = 10)\n",
    "model.fit(X_train, y_train)"
   ]
  },
  {
   "cell_type": "markdown",
   "metadata": {},
   "source": [
    "<b> performance report (without ph) <b>"
   ]
  },
  {
   "cell_type": "code",
   "execution_count": 68,
   "metadata": {},
   "outputs": [
    {
     "name": "stdout",
     "output_type": "stream",
     "text": [
      "[[615 112]\n",
      " [102 102]]\n",
      "              precision    recall  f1-score   support\n",
      "\n",
      "           0       0.86      0.85      0.85       727\n",
      "           1       0.48      0.50      0.49       204\n",
      "\n",
      "    accuracy                           0.77       931\n",
      "   macro avg       0.67      0.67      0.67       931\n",
      "weighted avg       0.77      0.77      0.77       931\n",
      "\n",
      "0.7701396348012889\n"
     ]
    }
   ],
   "source": [
    "from sklearn.metrics import classification_report,confusion_matrix,accuracy_score\n",
    "y_pred = model.predict(X_test)\n",
    "print(confusion_matrix(y_test,y_pred))\n",
    "print(classification_report(y_test,y_pred))\n",
    "print(accuracy_score(y_test, y_pred))"
   ]
  },
  {
   "cell_type": "markdown",
   "metadata": {
    "pycharm": {
     "is_executing": true,
     "name": "#%%\n"
    }
   },
   "source": [
    "### Building model using my own implementation"
   ]
  },
  {
   "cell_type": "markdown",
   "metadata": {},
   "source": [
    "<b> buld with ph <b>"
   ]
  },
  {
   "cell_type": "code",
   "execution_count": 53,
   "metadata": {
    "pycharm": {
     "is_executing": true,
     "name": "#%%\n"
    }
   },
   "outputs": [
    {
     "data": {
      "text/plain": [
       "DecisionTreeClassifier(max_depth=10)"
      ]
     },
     "execution_count": 53,
     "metadata": {},
     "output_type": "execute_result"
    }
   ],
   "source": [
    "from DT_Humaira_Qadeer import DecisionTreeModel\n",
    "from sklearn.metrics import classification_report,confusion_matrix,accuracy_score\n",
    "X_cat = combine.drop('taste',axis = 1)\n",
    "y_cat = combine['taste'] \n",
    "# splitting training and testing data\n",
    "X_train, X_test, y_train, y_test = train_test_split(X_cat, y_cat, test_size = 0.2, random_state=1)\n",
    "# building model with sklearn\n",
    "model = DecisionTreeClassifier(max_depth = 10)\n",
    "model.fit(X_train, y_train)"
   ]
  },
  {
   "cell_type": "markdown",
   "metadata": {},
   "source": [
    "#### calling performance report"
   ]
  },
  {
   "cell_type": "code",
   "execution_count": 54,
   "metadata": {
    "pycharm": {
     "is_executing": true,
     "name": "#%%\n"
    },
    "scrolled": true
   },
   "outputs": [
    {
     "name": "stdout",
     "output_type": "stream",
     "text": [
      "[[614 113]\n",
      " [ 93 111]]\n",
      "              precision    recall  f1-score   support\n",
      "\n",
      "           0       0.87      0.84      0.86       727\n",
      "           1       0.50      0.54      0.52       204\n",
      "\n",
      "    accuracy                           0.78       931\n",
      "   macro avg       0.68      0.69      0.69       931\n",
      "weighted avg       0.79      0.78      0.78       931\n",
      "\n",
      "accuracy:  0.7787325456498388\n"
     ]
    }
   ],
   "source": [
    "from DT_Humaira_Qadeer import DecisionTreeModel\n",
    "from sklearn.metrics import classification_report,confusion_matrix,accuracy_score\n",
    "y_pred = model.predict(X_test)\n",
    "print(confusion_matrix(y_test,y_pred))\n",
    "print(classification_report(y_test,y_pred))\n",
    "print(\"accuracy: \",accuracy_score(y_test, y_pred))"
   ]
  },
  {
   "cell_type": "markdown",
   "metadata": {},
   "source": [
    "<b> build without ph <b>"
   ]
  },
  {
   "cell_type": "code",
   "execution_count": 57,
   "metadata": {},
   "outputs": [
    {
     "data": {
      "text/plain": [
       "DecisionTreeClassifier(max_depth=10)"
      ]
     },
     "execution_count": 57,
     "metadata": {},
     "output_type": "execute_result"
    }
   ],
   "source": [
    "from DT_Humaira_Qadeer import DecisionTreeModel\n",
    "from sklearn.metrics import classification_report,confusion_matrix,accuracy_score\n",
    "X_train, X_test, y_train, y_test = train_test_split(X, y, test_size = 0.2, random_state=1)\n",
    "# building model with sklearn\n",
    "model = DecisionTreeClassifier(max_depth = 10)\n",
    "model.fit(X_train, y_train)"
   ]
  },
  {
   "cell_type": "markdown",
   "metadata": {},
   "source": [
    "#### calling performance report"
   ]
  },
  {
   "cell_type": "code",
   "execution_count": 59,
   "metadata": {},
   "outputs": [
    {
     "name": "stdout",
     "output_type": "stream",
     "text": [
      "[[614 113]\n",
      " [ 93 111]]\n",
      "              precision    recall  f1-score   support\n",
      "\n",
      "           0       0.87      0.84      0.86       727\n",
      "           1       0.50      0.54      0.52       204\n",
      "\n",
      "    accuracy                           0.78       931\n",
      "   macro avg       0.68      0.69      0.69       931\n",
      "weighted avg       0.79      0.78      0.78       931\n",
      "\n",
      "accuracy:  0.7765843179377014\n"
     ]
    }
   ],
   "source": [
    "from DT_Humaira_Qadeer import DecisionTreeModel\n",
    "from sklearn.metrics import classification_report,confusion_matrix,accuracy_score\n",
    "y_pred = model.predict(X_test)\n",
    "print(confusion_matrix(y_test,y_pred))\n",
    "print(classification_report(y_test,y_pred))\n",
    "print(\"accuracy: \",accuracy_score(y_test, y_pred))"
   ]
  },
  {
   "cell_type": "markdown",
   "metadata": {},
   "source": []
  },
  {
   "cell_type": "markdown",
   "metadata": {},
   "source": [
    "## Random Forest Model (Model 2) *ensemble model*"
   ]
  },
  {
   "cell_type": "markdown",
   "metadata": {},
   "source": [
    "#### using Standard Sklearn library"
   ]
  },
  {
   "cell_type": "markdown",
   "metadata": {},
   "source": [
    "<b> build with ph <b> "
   ]
  },
  {
   "cell_type": "code",
   "execution_count": 69,
   "metadata": {},
   "outputs": [
    {
     "name": "stdout",
     "output_type": "stream",
     "text": [
      "[[615 112]\n",
      " [102 102]]\n",
      "              precision    recall  f1-score   support\n",
      "\n",
      "           0       0.90      0.94      0.92       727\n",
      "           1       0.76      0.62      0.68       204\n",
      "\n",
      "    accuracy                           0.87       931\n",
      "   macro avg       0.83      0.78      0.80       931\n",
      "weighted avg       0.87      0.87      0.87       931\n",
      "\n",
      "0.8732545649838883\n"
     ]
    }
   ],
   "source": [
    "from sklearn.metrics import classification_report,confusion_matrix,accuracy_score\n",
    "X_cat = combine.drop('taste',axis = 1)\n",
    "y_cat = combine['taste'] \n",
    "X_train, X_test, y_train, y_test = train_test_split(X_cat, y_cat, test_size = 0.2, random_state=1)\n",
    "\n",
    "rfc = RandomForestClassifier(n_estimators=100)\n",
    "rfc.fit(X_train, y_train)\n",
    "rfc_pred = rfc.predict(X_test)\n",
    "print(confusion_matrix(y_test,y_pred))\n",
    "print(classification_report(y_test, rfc_pred))\n",
    "print(accuracy_score(y_test, rfc_pred))"
   ]
  },
  {
   "cell_type": "markdown",
   "metadata": {},
   "source": [
    "### building random forest using my own implementation"
   ]
  },
  {
   "cell_type": "markdown",
   "metadata": {},
   "source": [
    "<b> build with ph <b>"
   ]
  },
  {
   "cell_type": "code",
   "execution_count": 70,
   "metadata": {
    "scrolled": true
   },
   "outputs": [
    {
     "name": "stdout",
     "output_type": "stream",
     "text": [
      "Done fitting\n",
      "Done fitting\n",
      "Done fitting\n",
      "Done fitting\n",
      "Done fitting\n",
      "Done fitting\n",
      "Done fitting\n",
      "Done fitting\n",
      "Done fitting\n",
      "Done fitting\n",
      "Done fitting\n",
      "Done fitting\n",
      "Done fitting\n",
      "Done fitting\n",
      "Done fitting\n",
      "Done fitting\n",
      "Done fitting\n",
      "Done fitting\n",
      "Done fitting\n",
      "Done fitting\n",
      "Done fitting\n",
      "Done fitting\n",
      "Done fitting\n",
      "Done fitting\n",
      "Done fitting\n",
      "[[615 112]\n",
      " [102 102]]\n",
      "              precision    recall  f1-score   support\n",
      "\n",
      "           0       0.89      0.94      0.91       727\n",
      "           1       0.72      0.58      0.64       204\n",
      "\n",
      "    accuracy                           0.86       931\n",
      "   macro avg       0.80      0.76      0.78       931\n",
      "weighted avg       0.85      0.86      0.85       931\n",
      "\n",
      "accuracy: 0.8571428571428571\n"
     ]
    }
   ],
   "source": [
    "from DT_Humaira_Qadeer import RandomForestModel\n",
    "from sklearn.metrics import classification_report,confusion_matrix,accuracy_score\n",
    "X_train, X_test, y_train, y_test = train_test_split(X_cat, y_cat, test_size = 0.2, random_state=1)\n",
    "rfc = RandomForestModel(n_estimators=25)\n",
    "rfc.fit(X_train, y_train)\n",
    "rfc_pred = rfc.predict(X_test)\n",
    "print(confusion_matrix(y_test,y_pred))\n",
    "print(classification_report(y_test, rfc_pred))\n",
    "print(\"accuracy:\",accuracy_score(y_test, rfc_pred))"
   ]
  },
  {
   "cell_type": "markdown",
   "metadata": {},
   "source": [
    "<b> build without ph <b>"
   ]
  },
  {
   "cell_type": "code",
   "execution_count": 71,
   "metadata": {},
   "outputs": [
    {
     "name": "stdout",
     "output_type": "stream",
     "text": [
      "Done fitting\n",
      "Done fitting\n",
      "Done fitting\n",
      "Done fitting\n",
      "Done fitting\n",
      "Done fitting\n",
      "Done fitting\n",
      "Done fitting\n",
      "Done fitting\n",
      "Done fitting\n",
      "Done fitting\n",
      "Done fitting\n",
      "Done fitting\n",
      "Done fitting\n",
      "Done fitting\n",
      "Done fitting\n",
      "Done fitting\n",
      "Done fitting\n",
      "Done fitting\n",
      "Done fitting\n",
      "Done fitting\n",
      "Done fitting\n",
      "Done fitting\n",
      "Done fitting\n",
      "Done fitting\n",
      "[[615 112]\n",
      " [102 102]]\n",
      "              precision    recall  f1-score   support\n",
      "\n",
      "           0       0.89      0.93      0.91       727\n",
      "           1       0.70      0.57      0.63       204\n",
      "\n",
      "    accuracy                           0.85       931\n",
      "   macro avg       0.79      0.75      0.77       931\n",
      "weighted avg       0.84      0.85      0.85       931\n",
      "\n",
      "accuracy: 0.8517722878625135\n"
     ]
    }
   ],
   "source": [
    "from DT_Humaira_Qadeer import RandomForestModel\n",
    "from sklearn.metrics import classification_report,confusion_matrix,accuracy_score\n",
    "X_train, X_test, y_train, y_test = train_test_split(X_cat, y_cat, test_size = 0.2, random_state=1)\n",
    "rfc = RandomForestModel(n_estimators=25)\n",
    "rfc.fit(X_train, y_train)\n",
    "rfc_pred = rfc.predict(X_test)\n",
    "print(confusion_matrix(y_test,y_pred))\n",
    "print(classification_report(y_test, rfc_pred))\n",
    "print(\"accuracy:\",accuracy_score(y_test, rfc_pred))"
   ]
  },
  {
   "cell_type": "markdown",
   "metadata": {},
   "source": [
    "## Logistic Regression Model (Model 3)"
   ]
  },
  {
   "cell_type": "code",
   "execution_count": null,
   "metadata": {},
   "outputs": [],
   "source": [
    "from sklearn.metrics import classification_report,confusion_matrix,accuracy_score\n",
    "X_train, X_test, y_train, y_test = train_test_split(X_cat, y_cat, test_size = 0.2, random_state=1)\n",
    "model = LogisticRegression()\n",
    "model.fit(X_train,y_train)\n",
    "y_pred = model.predict(X_test)\n",
    "print(confusion_matrix(y_test,y_pred))\n",
    "print(classification_report(y_test,y_pred))\n",
    "print(accuracy_score(y_test, y_pred))"
   ]
  },
  {
   "cell_type": "markdown",
   "metadata": {},
   "source": [
    "#### Check 10-fold cross validation"
   ]
  },
  {
   "cell_type": "code",
   "execution_count": null,
   "metadata": {},
   "outputs": [],
   "source": [
    "from sklearn.metrics import r2_score\n",
    "\n",
    "import random\n",
    "r2 = []\n",
    "for i in range(10):\n",
    "\n",
    "    X_train, X_test, y_train, y_test = train_test_split(X_cat, y_cat, test_size = 0.2, random_state=1)\n",
    "    model = LogisticRegression()\n",
    "    model.fit(X_train, y_train)\n",
    "    y_pred = model.predict(X_test)\n",
    "    score = r2_score(y_test, y_pred)\n",
    "    r2.append(score)\n",
    "    print('Trial: {}, R^2: {}, Slope: {}, Intercept: {}'.format(\n",
    "        i, score, model.coef_, model.intercept_\n",
    "    ))\n",
    "\n",
    "rdf = pd.DataFrame( {'trial': range(10), 'Rsquare': r2})\n",
    "rdf.plot.bar(x='trial', y='Rsquare')\n",
    "print(confusion_matrix(y_test, y_pred))"
   ]
  },
  {
   "cell_type": "markdown",
   "metadata": {},
   "source": [
    "### Random forest model for red wine vs white wine"
   ]
  },
  {
   "cell_type": "code",
   "execution_count": null,
   "metadata": {},
   "outputs": [],
   "source": [
    "wine = combine.copy()\n",
    "wine.shape"
   ]
  },
  {
   "cell_type": "code",
   "execution_count": null,
   "metadata": {},
   "outputs": [],
   "source": [
    "wine['type'].value_counts()"
   ]
  },
  {
   "cell_type": "markdown",
   "metadata": {},
   "source": [
    "#### red wine random forest"
   ]
  },
  {
   "cell_type": "code",
   "execution_count": null,
   "metadata": {},
   "outputs": [],
   "source": [
    "from sklearn.metrics import classification_report,confusion_matrix,accuracy_score\n",
    "#split training and testing for red wine and taste\n",
    "X_red = wine[wine['type'] == 0]\n",
    "X_red_type = X_red.drop('taste', axis=1)\n",
    "y_red = X_red['taste']\n",
    "X_train, X_test, y_train, y_test = train_test_split(X_red_type,y_red, test_size = 0.2, random_state=1)\n",
    "\n",
    "rfc = RandomForestClassifier(n_estimators=25)\n",
    "rfc.fit(X_train, y_train)\n",
    "rfc_pred = rfc.predict(X_test)\n",
    "print(confusion_matrix(y_test,rfc_pred))\n",
    "print(classification_report(y_test, rfc_pred))\n",
    "print(accuracy_score(y_test, rfc_pred))"
   ]
  },
  {
   "cell_type": "markdown",
   "metadata": {},
   "source": [
    "### white wine random forest"
   ]
  },
  {
   "cell_type": "code",
   "execution_count": null,
   "metadata": {},
   "outputs": [],
   "source": [
    "from sklearn.metrics import classification_report,confusion_matrix,accuracy_score\n",
    "#split training and testing for white wine and taste\n",
    "X_white = wine[wine['type'] == 1]\n",
    "X_white_type = X_white.drop('taste', axis=1)\n",
    "y_white = X_white['taste']\n",
    "X_train, X_test, y_train, y_test = train_test_split(X_white_type, y_white, test_size = 0.2, random_state=1)\n",
    "\n",
    "rfc = RandomForestClassifier(n_estimators=25)\n",
    "rfc.fit(X_train, y_train)\n",
    "rfc_pred = rfc.predict(X_test)\n",
    "print(confusion_matrix(y_test,rfc_pred))\n",
    "print(classification_report(y_test, rfc_pred))\n",
    "print(accuracy_score(y_test, rfc_pred))"
   ]
  },
  {
   "cell_type": "markdown",
   "metadata": {},
   "source": [
    "## Observations"
   ]
  },
  {
   "cell_type": "markdown",
   "metadata": {},
   "source": [
    "My models included Random Forest, Decision Tree, and Logistic regression.\n",
    "\n",
    "<p> Random forest and decision tree were modelled based upon data including ph and data excluding ph. <p/> \n",
    "\n",
    "<b> * Compare the sklearn Decision Tree with your own Decision Tree implementation results <b>\n",
    "\n",
    "<p>The sklearn decision tree and my own decision tree had only a slight difference\n",
    "in accuracy, sklearns being less accurate <p/>\n",
    "\n",
    "<b> * Include at least one ensemble models<b>\n",
    "<p> I included random forest models with and without ph as my ensemble model implementation <p/>\n",
    "<b> * Identify out of all those you have tried, which one is the best model.<b>\n",
    "<p> Out of all the models I tried. The Random Forest model was observed to be the  accurate model <p/>"
   ]
  },
  {
   "cell_type": "markdown",
   "metadata": {},
   "source": [
    "* For the best fitted model, does it work better for the Red wine or White wine or similar\n",
    "\n",
    "<p> I applied the random forest model to both red wine and white wine types in correlation to taste, and observed only a slight difference between the red and white wine accuracy. The modelling of red wine turned out to be more accurate than the model for white wine.<p/>\n",
    "* Can ensemble methods improve your models?\n",
    "<p> Ensemble method mitigate the errors created by weaker models by learning from previous errors in estimation and correcting them. Therefore, I do believe ensemble methods definitely provide improvements in models that are expected to perform poorly on their own, and I observed that by the difference in accuracy between random forest and decision trees, random forest being more accurate. <p/>"
   ]
  },
  {
   "cell_type": "markdown",
   "metadata": {},
   "source": [
    "Whether the categorical variable pH Value is important or not. If it is important, and you need to make a prediction for one instance where the pH value is missing, how would you proceed?\n",
    "\n",
    "<p> My models included the behavior of the categorical variable pHValue using random forest and decision trees as well as models that excluded pHValue and i observed that the variable had only a slight effect on the accuracy of the scores. Models that included the variable were observed to be more accurate. "
   ]
  }
 ],
 "metadata": {
  "kernelspec": {
   "display_name": "Python 3 (ipykernel)",
   "language": "python",
   "name": "python3"
  },
  "language_info": {
   "codemirror_mode": {
    "name": "ipython",
    "version": 3
   },
   "file_extension": ".py",
   "mimetype": "text/x-python",
   "name": "python",
   "nbconvert_exporter": "python",
   "pygments_lexer": "ipython3",
   "version": "3.9.10"
  },
  "widgets": {
   "application/vnd.jupyter.widget-state+json": {
    "state": {},
    "version_major": 2,
    "version_minor": 0
   }
  }
 },
 "nbformat": 4,
 "nbformat_minor": 2
}
